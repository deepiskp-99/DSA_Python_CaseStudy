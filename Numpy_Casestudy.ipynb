{
  "nbformat": 4,
  "nbformat_minor": 0,
  "metadata": {
    "colab": {
      "provenance": [],
      "authorship_tag": "ABX9TyM5N7HCrFgpHlmBTByW/z+4",
      "include_colab_link": true
    },
    "kernelspec": {
      "name": "python3",
      "display_name": "Python 3"
    },
    "language_info": {
      "name": "python"
    }
  },
  "cells": [
    {
      "cell_type": "markdown",
      "metadata": {
        "id": "view-in-github",
        "colab_type": "text"
      },
      "source": [
        "<a href=\"https://colab.research.google.com/github/deepiskp-99/DSA_Python_CaseStudy/blob/main/Numpy_Casestudy.ipynb\" target=\"_parent\"><img src=\"https://colab.research.google.com/assets/colab-badge.svg\" alt=\"Open In Colab\"/></a>"
      ]
    },
    {
      "cell_type": "markdown",
      "source": [
        "**1. Create a NumPy array with values from 10 to 49 (inclusive).**\n",
        "\n",
        "**● Reshape it into a 4x10 matrix.**\n",
        "\n",
        "**● Then extract the last column from the reshaped matrix,**"
      ],
      "metadata": {
        "id": "4ZHrPKDxb5mv"
      }
    },
    {
      "cell_type": "code",
      "execution_count": null,
      "metadata": {
        "colab": {
          "base_uri": "https://localhost:8080/"
        },
        "id": "61N88HYR0PZF",
        "outputId": "e02aa33f-77c5-458c-e159-21a49596d637"
      },
      "outputs": [
        {
          "output_type": "stream",
          "name": "stdout",
          "text": [
            "[10 11 12 13 14 15 16 17 18 19 20 21 22 23 24 25 26 27 28 29 30 31 32 33\n",
            " 34 35 36 37 38 39 40 41 42 43 44 45 46 47 48 49]\n",
            "[[10 11 12 13 14 15 16 17 18 19]\n",
            " [20 21 22 23 24 25 26 27 28 29]\n",
            " [30 31 32 33 34 35 36 37 38 39]\n",
            " [40 41 42 43 44 45 46 47 48 49]]\n",
            "[19 29 39 49]\n"
          ]
        }
      ],
      "source": [
        "import numpy as np\n",
        "\n",
        "arr = np.arange(10, 50)\n",
        "print(arr)\n",
        "\n",
        "matrix = arr.reshape(4, 10)\n",
        "print(matrix)\n",
        "\n",
        "last_col = matrix[:, -1]\n",
        "print(last_col)"
      ]
    },
    {
      "cell_type": "markdown",
      "source": [
        "**2. Create two 3×3 matrices:**\n",
        "\n",
        "**One filled with all 5s , One with values from 1 to 9**\n",
        "\n",
        "**● Add the two matrices**\n",
        "\n",
        "**● Multiply them element-wise**\n",
        "\n",
        "**● Then find the transpose of the result**\n"
      ],
      "metadata": {
        "id": "5t1n5we6bpR6"
      }
    },
    {
      "cell_type": "code",
      "source": [
        "A = np.full((3,3),5)\n",
        "B = np.arange(1,10).reshape(3,3)\n",
        "C = A+B\n",
        "Mul = A*B\n",
        "print(\"A = \",A)\n",
        "print(\"B = \",B)\n",
        "print(\"C = \",C)\n",
        "print(\"Multipied ans =\",Mul)\n",
        "np.transpose(Mul)"
      ],
      "metadata": {
        "colab": {
          "base_uri": "https://localhost:8080/"
        },
        "id": "jo33XsUg2zkt",
        "outputId": "22ac41a7-7b33-473d-de6b-f82d577e3898"
      },
      "execution_count": null,
      "outputs": [
        {
          "output_type": "stream",
          "name": "stdout",
          "text": [
            "A =  [[5 5 5]\n",
            " [5 5 5]\n",
            " [5 5 5]]\n",
            "B =  [[1 2 3]\n",
            " [4 5 6]\n",
            " [7 8 9]]\n",
            "C =  [[ 6  7  8]\n",
            " [ 9 10 11]\n",
            " [12 13 14]]\n",
            "Multipied ans = [[ 5 10 15]\n",
            " [20 25 30]\n",
            " [35 40 45]]\n"
          ]
        },
        {
          "output_type": "execute_result",
          "data": {
            "text/plain": [
              "array([[ 5, 20, 35],\n",
              "       [10, 25, 40],\n",
              "       [15, 30, 45]])"
            ]
          },
          "metadata": {},
          "execution_count": 4
        }
      ]
    },
    {
      "cell_type": "markdown",
      "source": [
        "**3. Create a NumPy array of 15 random integers between 10 and 100.**\n",
        "\n",
        "**● Replace all values greater than 50 with -1.**\n",
        "\n",
        "**● Count how many values were replaced.**\n"
      ],
      "metadata": {
        "id": "2Dkukka9bfAX"
      }
    },
    {
      "cell_type": "code",
      "source": [
        "arr = np.random.randint(10,101,size=15)\n",
        "print(\"Original Array:\",arr)\n",
        "\n",
        "replaced_arr = np.where(arr > 50, -1, arr)\n",
        "print(\"Modified Array:\",replaced_arr)\n",
        "\n",
        "count_replaced = np.sum(arr > 50)\n",
        "print(\"Count of replaced values:\",count_replaced)"
      ],
      "metadata": {
        "colab": {
          "base_uri": "https://localhost:8080/"
        },
        "id": "0QH6J9lt7Zfk",
        "outputId": "babf6684-b21f-46d5-af87-0f610d5731b5"
      },
      "execution_count": null,
      "outputs": [
        {
          "output_type": "stream",
          "name": "stdout",
          "text": [
            "Original Array: [11 76 25 77 41 95 54 43 38 83 67 67 93 54 19]\n",
            "Modified Array: [11 -1 25 -1 41 -1 -1 43 38 -1 -1 -1 -1 -1 19]\n",
            "Count of replaced values: 9\n"
          ]
        }
      ]
    },
    {
      "cell_type": "markdown",
      "source": [
        "**4. Generate a 5×4 array with random values between 0 and 1 (float).**\n",
        "\n",
        "**● Find the row with the maximum sum of values.**\n",
        "\n",
        "**● Normalize each row using the formula:**\n",
        "\n",
        "**x nor = x - min/max - min**"
      ],
      "metadata": {
        "id": "QuBZLkhHa3jm"
      }
    },
    {
      "cell_type": "code",
      "source": [
        "ar = np.random.rand(5,4)\n",
        "print(\"Array:\",ar)\n",
        "\n",
        "row_sum = np.sum(ar, axis=1)\n",
        "max_row_index = np.argmax(row_sum)\n",
        "print(\"Row with maximum sum:\",max_row_index)\n",
        "\n",
        "normal_arr = (ar - np.mean(ar)) / np.std(ar)\n",
        "print(\"Normalized Array:\",normal_arr)"
      ],
      "metadata": {
        "colab": {
          "base_uri": "https://localhost:8080/"
        },
        "id": "pXsMduSzQLGx",
        "outputId": "b9b27e07-07ae-41b8-bcc5-df214dce6fdd"
      },
      "execution_count": null,
      "outputs": [
        {
          "output_type": "stream",
          "name": "stdout",
          "text": [
            "Array: [[0.95501223 0.92664957 0.27051181 0.6253748 ]\n",
            " [0.96622428 0.77967406 0.54830953 0.04684245]\n",
            " [0.13007493 0.49998372 0.7994912  0.39964985]\n",
            " [0.13500007 0.99345407 0.14579401 0.72458238]\n",
            " [0.74389742 0.17221535 0.03380701 0.53470519]]\n",
            "Row with maximum sum: 0\n",
            "Normalized Array: [[ 1.32941258  1.2424228  -0.76998631  0.31839719]\n",
            " [ 1.36380054  0.79164117  0.08203396 -1.45599205]\n",
            " [-1.20071363 -0.06618386  0.85242139 -0.37391313]\n",
            " [-1.18560799  1.44731575 -1.15250241  0.62267208]\n",
            " [ 0.68191234 -1.07146674 -1.49597242  0.04030873]]\n"
          ]
        }
      ]
    },
    {
      "cell_type": "markdown",
      "source": [
        "**5. arr = np.array([1, 3, 5, 3, 7, 9, 1, 5, 5])**\n",
        "\n",
        "**● Find all unique elements**\n",
        "\n",
        "**● Find the duplicates (elements that appear more than once)**"
      ],
      "metadata": {
        "id": "vm5-S04palvu"
      }
    },
    {
      "cell_type": "code",
      "source": [
        "arr = np.array([1, 3, 5, 3, 7, 9, 1, 5, 5])\n",
        "unique_elements = np.unique(arr)\n",
        "print(\"Unique element is:\",unique_elements)\n",
        "\n",
        "unique, counts = np.unique(arr, return_counts=True)\n",
        "\n",
        "duplicates = unique[counts > 1]\n",
        "print(\"Duplicate is:\",duplicates)"
      ],
      "metadata": {
        "colab": {
          "base_uri": "https://localhost:8080/"
        },
        "id": "f0PPNVn9Ru1F",
        "outputId": "fdcae0c8-0d15-4c70-f284-e915418c5ee1"
      },
      "execution_count": null,
      "outputs": [
        {
          "output_type": "stream",
          "name": "stdout",
          "text": [
            "Unique element is: [1 3 5 7 9]\n",
            "Duplicate is: [1 3 5]\n"
          ]
        }
      ]
    },
    {
      "cell_type": "markdown",
      "source": [
        "**6.Create a 6×6 NumPy array with values from 1 to 36.**\n",
        "\n",
        "**● Extract the middle 4×4 submatrix.**\n",
        "\n",
        "**● Then extract all even numbers from this submatrix.**\n"
      ],
      "metadata": {
        "id": "ojuEKJXFaZYM"
      }
    },
    {
      "cell_type": "code",
      "source": [
        "arr = np.arange(1, 37).reshape(6, 6)\n",
        "print(arr)\n",
        "\n",
        "submatrix = arr[1:5, 1:5]\n",
        "print(\"Submatrix is:\",submatrix)\n",
        "\n",
        "even = submatrix[submatrix % 2 == 0]\n",
        "print(\"Even number is:\",even)"
      ],
      "metadata": {
        "colab": {
          "base_uri": "https://localhost:8080/"
        },
        "id": "8NTyDV9zTiuf",
        "outputId": "bb04f0cc-09da-469c-90f7-8faad490dbb8"
      },
      "execution_count": null,
      "outputs": [
        {
          "output_type": "stream",
          "name": "stdout",
          "text": [
            "[[ 1  2  3  4  5  6]\n",
            " [ 7  8  9 10 11 12]\n",
            " [13 14 15 16 17 18]\n",
            " [19 20 21 22 23 24]\n",
            " [25 26 27 28 29 30]\n",
            " [31 32 33 34 35 36]]\n",
            "Submatrix is: [[ 8  9 10 11]\n",
            " [14 15 16 17]\n",
            " [20 21 22 23]\n",
            " [26 27 28 29]]\n",
            "Even number is: [ 8 10 14 16 20 22 26 28]\n"
          ]
        }
      ]
    },
    {
      "cell_type": "markdown",
      "source": [
        "**7. Generate an array of shape (3, 4) with values from 0 to 11.**\n",
        "\n",
        "**● Reshape it to (2, 6)**\n",
        "\n",
        "**● Then flatten it into a 1D array**\n",
        "\n",
        "**● Convert the 1D array back to shape (4, 3)**"
      ],
      "metadata": {
        "id": "gGhDdQH9aKth"
      }
    },
    {
      "cell_type": "code",
      "source": [
        "arr = np.arange(0,12).reshape(3, 4)\n",
        "print(\"Array is:\\n\",arr)\n",
        "\n",
        "arr2 = arr.reshape(2, 6)\n",
        "print(\"Reshaped array is:\\n\",arr2)\n",
        "\n",
        "flat = arr2.flatten()\n",
        "print(\"Flattened is :\\n\", flat)\n",
        "\n",
        "arr3 = flat.reshape(4, 3)\n",
        "print(\"Reshaped (4x3):\\n\", arr3)"
      ],
      "metadata": {
        "colab": {
          "base_uri": "https://localhost:8080/"
        },
        "id": "-hfVcFLxUxI9",
        "outputId": "ed2a34d7-8dba-4ef2-bd99-585e271a9abf"
      },
      "execution_count": null,
      "outputs": [
        {
          "output_type": "stream",
          "name": "stdout",
          "text": [
            "Array is:\n",
            " [[ 0  1  2  3]\n",
            " [ 4  5  6  7]\n",
            " [ 8  9 10 11]]\n",
            "Reshaped array is:\n",
            " [[ 0  1  2  3  4  5]\n",
            " [ 6  7  8  9 10 11]]\n",
            "Flattened is :\n",
            " [ 0  1  2  3  4  5  6  7  8  9 10 11]\n",
            "Reshaped (4x3):\n",
            " [[ 0  1  2]\n",
            " [ 3  4  5]\n",
            " [ 6  7  8]\n",
            " [ 9 10 11]]\n"
          ]
        }
      ]
    },
    {
      "cell_type": "markdown",
      "source": [
        "**8 . Create an array: a = np.array([[1, 2], [3, 4]])**\n",
        "\n",
        "**● Append a new row [5, 6]**\n",
        "\n",
        "**● Then append a new column [7, 8, 9]**\n"
      ],
      "metadata": {
        "id": "7nRzP3GJZ_N0"
      }
    },
    {
      "cell_type": "code",
      "source": [
        "a = np.array([[1, 2], [3, 4]])\n",
        "a = np.vstack([a, [5, 6]])\n",
        "print(\"After adding row:\\n\",a)\n",
        "\n",
        "a = np.column_stack([a, [7, 8, 9]])\n",
        "print(\"After adding column:\\n\",a)"
      ],
      "metadata": {
        "colab": {
          "base_uri": "https://localhost:8080/"
        },
        "id": "J9oT6ay8V3Wc",
        "outputId": "637a3cc4-0e1e-4e24-9242-91f0b06af16a"
      },
      "execution_count": null,
      "outputs": [
        {
          "output_type": "stream",
          "name": "stdout",
          "text": [
            "After adding row:\n",
            " [[1 2]\n",
            " [3 4]\n",
            " [5 6]]\n",
            "After adding column:\n",
            " [[1 2 7]\n",
            " [3 4 8]\n",
            " [5 6 9]]\n"
          ]
        }
      ]
    },
    {
      "cell_type": "markdown",
      "source": [
        "**9.a = np.array([1, 2, 3])**\n",
        "\n",
        "**b = np.array([4, 5, 6])**\n",
        "\n",
        "**c = np.array([7, 8, 9])**\n",
        "\n",
        "**● Join them into a single array**\n",
        "\n",
        "**● Reshape the result into a 3×3 matrix**\n",
        "\n",
        "**● Extract the diagonal elements**\n"
      ],
      "metadata": {
        "id": "61KpQssaZp0_"
      }
    },
    {
      "cell_type": "code",
      "source": [
        "a = np.array([1, 2, 3])\n",
        "b = np.array([4, 5, 6])\n",
        "c = np.array([7, 8, 9])\n",
        "\n",
        "joined = np.concatenate([a, b, c])\n",
        "print(\"Joined array:\", joined)\n",
        "\n",
        "matrix = joined.reshape(3, 3)\n",
        "print(\"3x3 Matrix:\", matrix)\n",
        "\n",
        "diag = np.diag(matrix)\n",
        "print(\"\\nDiagonal elements:\", diag)"
      ],
      "metadata": {
        "colab": {
          "base_uri": "https://localhost:8080/"
        },
        "id": "f0A-OmS5W-yC",
        "outputId": "d3d96ac9-4cae-4933-e44e-0d98de6eb906"
      },
      "execution_count": null,
      "outputs": [
        {
          "output_type": "stream",
          "name": "stdout",
          "text": [
            "Joined array: [1 2 3 4 5 6 7 8 9]\n",
            "3x3 Matrix: [[1 2 3]\n",
            " [4 5 6]\n",
            " [7 8 9]]\n",
            "\n",
            "Diagonal elements: [1 5 9]\n"
          ]
        }
      ]
    },
    {
      "cell_type": "markdown",
      "source": [
        "**10. Create a NumPy array of integers from 1 to 20.**\n",
        "\n",
        "● **Extract all values that are divisible by 3 or 5.**\n",
        "\n",
        "● **Count how many such values exist**"
      ],
      "metadata": {
        "id": "RxG5lQL8ZXjK"
      }
    },
    {
      "cell_type": "code",
      "source": [
        "import numpy as np\n",
        "arr = np.arange(1, 21)\n",
        "print(\"Array:\", arr)\n",
        "\n",
        "divisible = arr[(arr % 3 == 0) | (arr % 5 == 0)]\n",
        "print(\"Divisible by 3 or 5:\", divisible)\n",
        "\n",
        "count = divisible.size\n",
        "print(\"Count:\", count)"
      ],
      "metadata": {
        "id": "WgvKQJcId8RD",
        "colab": {
          "base_uri": "https://localhost:8080/"
        },
        "outputId": "36bb0d7c-91fd-43f6-a7de-2ef28f2adab7"
      },
      "execution_count": 2,
      "outputs": [
        {
          "output_type": "stream",
          "name": "stdout",
          "text": [
            "Array: [ 1  2  3  4  5  6  7  8  9 10 11 12 13 14 15 16 17 18 19 20]\n",
            "Divisible by 3 or 5: [ 3  5  6  9 10 12 15 18 20]\n",
            "Count: 9\n"
          ]
        }
      ]
    },
    {
      "cell_type": "code",
      "source": [],
      "metadata": {
        "id": "QsDvk2MUeY7n"
      },
      "execution_count": null,
      "outputs": []
    }
  ]
}