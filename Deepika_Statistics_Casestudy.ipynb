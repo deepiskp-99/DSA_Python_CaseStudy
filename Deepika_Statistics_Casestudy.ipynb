{
  "nbformat": 4,
  "nbformat_minor": 0,
  "metadata": {
    "colab": {
      "provenance": [],
      "authorship_tag": "ABX9TyMa3EaidH3HiZviM7WBe6PU",
      "include_colab_link": true
    },
    "kernelspec": {
      "name": "python3",
      "display_name": "Python 3"
    },
    "language_info": {
      "name": "python"
    }
  },
  "cells": [
    {
      "cell_type": "markdown",
      "metadata": {
        "id": "view-in-github",
        "colab_type": "text"
      },
      "source": [
        "<a href=\"https://colab.research.google.com/github/deepiskp-99/DSA_Python_CaseStudy/blob/main/Deepika_Statistics_Casestudy.ipynb\" target=\"_parent\"><img src=\"https://colab.research.google.com/assets/colab-badge.svg\" alt=\"Open In Colab\"/></a>"
      ]
    },
    {
      "cell_type": "markdown",
      "source": [
        "**1. Dataset: Monthly temperatures in a city (in °C): 12, 15, 14, 16, 18, 20, 22, 19,17, 15, 13, 10 Questions:**\n",
        "\n",
        "**a) Calculate the mean temperature.**\n",
        "\n",
        "**b) Calculate the median temperature.**\n",
        "\n",
        "**c) Find the mode of the temperature data.**\n",
        "\n",
        "**d) Range and Variance**"
      ],
      "metadata": {
        "id": "vfk9DPvhth3S"
      }
    },
    {
      "cell_type": "code",
      "execution_count": 9,
      "metadata": {
        "colab": {
          "base_uri": "https://localhost:8080/"
        },
        "id": "zBc8fhRHgrFW",
        "outputId": "670fca15-3e3f-45b4-cf87-4655e91ac693"
      },
      "outputs": [
        {
          "output_type": "stream",
          "name": "stdout",
          "text": [
            "a) Mean value is: 15.916666666666666\n",
            "b) Median value is: 15.5\n",
            "c) Mode value is: 15\n",
            "d) Range is: 12\n",
            "e) Variance is: 11.07638888888889\n"
          ]
        }
      ],
      "source": [
        "temps = [12, 15, 14, 16, 18, 20, 22, 19, 17, 15, 13, 10]\n",
        "\n",
        "# mean\n",
        "n = len(temps)\n",
        "mean = sum(temps)/n\n",
        "\n",
        "# median\n",
        "sort_temps =sorted(temps)\n",
        "if n % 2 == 0:\n",
        "    median_temp = (sort_temps[n//2 - 1] + sort_temps[n//2]) / 2\n",
        "\n",
        "# mode\n",
        "freq = {}\n",
        "for t in temps:\n",
        "    freq[t] = freq.get(t, 0) + 1\n",
        "mode_temp = max(freq, key=freq.get)\n",
        "\n",
        "# range\n",
        "maximum = max(temps)\n",
        "minimum = min(temps)\n",
        "range = maximum - minimum\n",
        "variance = 0\n",
        "for t in temps:\n",
        "  variance += (t - mean) ** 2 / n\n",
        "\n",
        "\n",
        "print(\"a) Mean value is:\",mean)\n",
        "print(\"b) Median value is:\",median_temp)\n",
        "print(\"c) Mode value is:\",mode_temp)\n",
        "print(\"d) Range is:\",range)\n",
        "print(\"e) Variance is:\",variance)\n",
        "\n",
        "\n"
      ]
    },
    {
      "cell_type": "markdown",
      "source": [
        "###**2. Dataset: Heights of students (in cm): 150, 160, 165, 170, 155, 160, 162, 168**\n",
        "**Questions: a) Calculate the range of the heights.**\n",
        "\n",
        "**b) Calculate the variance of the heights.**\n",
        "\n",
        "**c) Standard Deviation**"
      ],
      "metadata": {
        "id": "HLE7i9oXN50m"
      }
    },
    {
      "cell_type": "code",
      "source": [
        "heights = [150, 160, 165, 170, 155, 160, 162, 168]\n",
        "\n",
        "# Range\n",
        "max_hei = max(heights)\n",
        "min_hei = min(heights)\n",
        "Range = max_hei - min_hei\n",
        "\n",
        "#variance\n",
        "mean_hei = sum(heights)/len(heights)\n",
        "var_hei = 0\n",
        "for h in heights:\n",
        "  var_hei += (h - mean_hei) ** 2 / len(heights)\n",
        "\n",
        "#standard deviation\n",
        "std_dev = var_hei ** 0.5\n",
        "\n",
        "print(f\"a) Range of Heights: {Range}\")\n",
        "print(f\"b) Variance of Heights: {var_hei:.2f}\")\n",
        "print(f\"c) Standard deviation is: {std_dev:.2f}\")"
      ],
      "metadata": {
        "colab": {
          "base_uri": "https://localhost:8080/"
        },
        "id": "zSIfWpY6madU",
        "outputId": "b69854e1-e733-4014-d09a-bb0525499100"
      },
      "execution_count": 19,
      "outputs": [
        {
          "output_type": "stream",
          "name": "stdout",
          "text": [
            "a) Range of Heights: 20\n",
            "b) Variance of Heights: 38.19\n",
            "c) Standard deviation is: 6.18\n"
          ]
        }
      ]
    },
    {
      "cell_type": "markdown",
      "source": [
        "###**3.Dataset: Weekly expenses (in $): 200, 250, 300, 220, 270, 290, 310**\n",
        "**Questions: a) Calculate the standard deviation of the weekly expenses.**"
      ],
      "metadata": {
        "id": "nrhnnZPfOQ9C"
      }
    },
    {
      "cell_type": "code",
      "source": [
        "Expenses = [200, 250, 300, 220, 270, 290, 310]\n",
        "\n",
        "mean_exp = sum(Expenses) / len(Expenses)\n",
        "var_exp = 0\n",
        "for e in Expenses:\n",
        "  var_exp += (e - mean_exp) ** 2 / len(Expenses)\n",
        "std_dev_exp = var_exp ** 0.5\n",
        "\n",
        "print(f\"c) Standard deviation of weekly expensive is: {std_dev_exp:.2f}\")"
      ],
      "metadata": {
        "colab": {
          "base_uri": "https://localhost:8080/"
        },
        "id": "SCqSQrsYwDey",
        "outputId": "6eb96943-f283-44e0-b157-894b082c0098"
      },
      "execution_count": 20,
      "outputs": [
        {
          "output_type": "stream",
          "name": "stdout",
          "text": [
            "c) Standard deviation of weekly expensive is: 38.44\n"
          ]
        }
      ]
    },
    {
      "cell_type": "markdown",
      "source": [
        "###**4. Dataset: Advertising Spending (in $1000s): 10, 20, 15, 25, 30;Sales(in**\n",
        "**$1000s): 100, 150, 120, 180, 200**\n",
        "**Questions: a) Calculate the covariance between advertising spending and sales**\n",
        "**b) Correlation**"
      ],
      "metadata": {
        "id": "XwkxrXVdOc6N"
      }
    },
    {
      "cell_type": "code",
      "source": [
        "x = [10, 20, 15, 25, 30]\n",
        "y = [100, 150, 120, 180, 200]\n",
        "\n",
        "n = len(x)\n",
        "\n",
        "total_x = sum(x)\n",
        "total_y = sum(y)\n",
        "\n",
        "total_xy = sum(x[i]*y[i] for i in range(n))\n",
        "total_x_sq = sum(xi**2 for xi in x)\n",
        "total_y_sq = sum(yi**2 for yi in y)\n",
        "cov = (total_xy - (total_x*total_y) / n) / (n - 1)\n",
        "\n",
        "std_x = ((total_x_sq - (total_x**2) / n) / (n-1)) ** 0.5\n",
        "std_y = ((total_y_sq - (total_y**2) / n) / (n-1)) ** 0.5\n",
        "\n",
        "cor = cov / (std_x * std_y)\n",
        "\n",
        "print(f\"a) Covariance between x and y: {cov}\")\n",
        "print(f\"b) Correlation is: {cor}\")"
      ],
      "metadata": {
        "colab": {
          "base_uri": "https://localhost:8080/"
        },
        "id": "8Q-SqmQE0mxk",
        "outputId": "418740f7-113e-4bfc-b615-f9fb45822935"
      },
      "execution_count": 1,
      "outputs": [
        {
          "output_type": "stream",
          "name": "stdout",
          "text": [
            "a) Covariance between x and y: 325.0\n",
            "b) Correlation is: 0.9970544855015816\n"
          ]
        }
      ]
    },
    {
      "cell_type": "markdown",
      "source": [
        "###**5. Dataset: Study Hours: 2, 4, 6, 8, 10; Exam Scores: 55, 60, 65, 70, 75**\n",
        "**Questions: a) Calculate the correlation coefficient between study hours and exam scores.**\n",
        "\n",
        "**b) Interpret the result.**\n",
        "\n",
        "**c) Quartiles and IQR**"
      ],
      "metadata": {
        "id": "MkP-bF2xOz5G"
      }
    },
    {
      "cell_type": "code",
      "source": [
        "s = [2, 4, 6, 8, 10]\n",
        "e = [55, 60, 65, 70, 75]\n",
        "\n",
        "n = len(s)\n",
        "sum_s = sum(s)\n",
        "sum_e = sum(e)\n",
        "\n",
        "sum_se = sum(s[i]*e[i] for i in range(n))\n",
        "sum_s_sq = sum(si**2 for si in s)\n",
        "sum_e_sq = sum(ei**2 for ei in e)\n",
        "cov = (sum_se - (sum_s*sum_e) / n) / (n - 1)\n",
        "\n",
        "std_s = ((sum_s_sq - (sum_s**2) / n) / (n-1)) ** 0.5\n",
        "std_e = ((sum_e_sq - (sum_e**2) / n) / (n-1)) ** 0.5\n",
        "cor = cov / (std_s * std_e)\n",
        "\n",
        "data_s = sorted(s)\n",
        "data_e= sorted(e)\n",
        "\n",
        "Q1_ind= (n // 4)\n",
        "Q3_ind = (3 * n) // 4\n",
        "Q1 = data_s[Q1_ind - 1]\n",
        "Q3 = data_s[Q3_ind - 1]\n",
        "IQR_s = Q3 - Q1\n",
        "\n",
        "\n",
        "Q11_ind= (n // 4)\n",
        "Q31_ind = (3 * n) // 4\n",
        "Q11 = data_e[Q11_ind - 1]\n",
        "Q31 = data_e[Q31_ind - 1]\n",
        "IQR_e = Q31 - Q11\n",
        "\n",
        "print(f\"Correlation between s and e is: {cor}\")\n",
        "print(\"This correlation is Highly Positive.\")\n",
        "print(\"Quartiles => 1.Study Hour:\",Q1,\"to\",Q3)\n",
        "print(\"Quartiles => 2.Exam Score:\",Q11,\"to\",Q31)\n",
        "print(\"IQR => 1.Study Hour:\",IQR_s)\n",
        "print(\"IQR => 2.Exam Score:\",IQR_e)"
      ],
      "metadata": {
        "colab": {
          "base_uri": "https://localhost:8080/"
        },
        "id": "oaj5boJR4B2T",
        "outputId": "b922df34-80ab-4d0e-90cd-a9bdc46c3b7d"
      },
      "execution_count": 2,
      "outputs": [
        {
          "output_type": "stream",
          "name": "stdout",
          "text": [
            "Correlation between s and e is: 1.0\n",
            "This correlation is Highly Positive.\n",
            "Quartiles => 1.Study Hour: 2 to 6\n",
            "Quartiles => 2.Exam Score: 55 to 65\n",
            "IQR => 1.Study Hour: 4\n",
            "IQR => 2.Exam Score: 10\n"
          ]
        }
      ]
    },
    {
      "cell_type": "markdown",
      "source": [
        "###**6. Dataset: Monthly savings (in $): 200, 300, 400, 500, 600, 700, 800, 900, 1000,1100**\n",
        "**Questions: a) Calculate the first quartile (Q1) and third quartile (Q3).**\n",
        "\n",
        "**b) Calculate the interquartile range (IQR).**\n",
        "\n",
        "**c) Detecting Outliers**\n"
      ],
      "metadata": {
        "id": "oB3CSCvPPJLS"
      }
    },
    {
      "cell_type": "code",
      "source": [
        "sav = [200, 300, 400, 500, 600, 700, 800, 900, 1000, 1100]\n",
        "sav_n = sorted(sav)\n",
        "\n",
        "n = len(sav)\n",
        "Q_1 = n // 4\n",
        "Q_3 = 3 * (n) // 4\n",
        "Q1 = sav_n[Q_1 - 1]\n",
        "Q3 = sav_n[Q_3 - 1]\n",
        "IQR = Q3 - Q1\n",
        "\n",
        "lower = Q1 - 1.5 * IQR\n",
        "upper = Q3 + 1.5 * IQR\n",
        "out_l = [x for x in sav if x < lower or x > upper]\n",
        "\n",
        "print(\"Quartiles =>\",Q1,\"and\",Q3)\n",
        "print(\"IQR =>\",IQR)\n",
        "print(\"Outliers:\", out_l if out_l else \"No outliers\")"
      ],
      "metadata": {
        "colab": {
          "base_uri": "https://localhost:8080/"
        },
        "id": "sODBUGuW7D6a",
        "outputId": "b5b471dd-51b6-4f5d-f5ce-3d74db83bf66"
      },
      "execution_count": 8,
      "outputs": [
        {
          "output_type": "stream",
          "name": "stdout",
          "text": [
            "Quartiles => 300 and 800\n",
            "IQR => 500\n",
            "Outliers: No outliers\n"
          ]
        }
      ]
    },
    {
      "cell_type": "markdown",
      "source": [
        "###**7. Dataset: Ages of employees: 22, 25, 28, 30, 35, 40, 45, 50, 55, 100**\n",
        "**Questions: a) Identify any outliers using the IQR method.**\n"
      ],
      "metadata": {
        "id": "zzXb-UtBPeiK"
      }
    },
    {
      "cell_type": "code",
      "source": [
        "age = [22, 25, 28, 30, 35, 40, 45, 50, 55, 100]\n",
        "\n",
        "age_n = sorted(age)\n",
        "\n",
        "n = len(age)\n",
        "Q_a1 = n // 4\n",
        "Q_a3 = 3 * (n) // 4\n",
        "Q_1 = age_n[Q_a1 - 1]\n",
        "Q_3 = age_n[Q_a3 - 1]\n",
        "IQR = Q_3 - Q_1\n",
        "\n",
        "lower_a = Q_1 - 1.5 * IQR\n",
        "upper_a = Q_3 + 1.5 * IQR\n",
        "out_l = [x for x in age if x < lower_a or x > upper_a]\n",
        "\n",
        "print(\"Outliers:\", out_l if out_l else \"No outliers\")"
      ],
      "metadata": {
        "colab": {
          "base_uri": "https://localhost:8080/"
        },
        "id": "MNiRlLpA_8Rx",
        "outputId": "93a19c46-9cec-4122-9555-b626667f566e"
      },
      "execution_count": 4,
      "outputs": [
        {
          "output_type": "stream",
          "name": "stdout",
          "text": [
            "Outliers: [100]\n"
          ]
        }
      ]
    },
    {
      "cell_type": "markdown",
      "source": [
        "###**9. Dataset: Sample weights (in kg) of a new diet program: 70, 68, 72, 71, 69, 73,72, 74, 70, 71**\n",
        "**Questions: a) Test the hypothesis that the mean weight after the diet program is equal to 70 kg at a 5% significance level.**\n",
        "\n",
        "**b) Z-Scores**"
      ],
      "metadata": {
        "id": "QLwCweZ7PmCt"
      }
    },
    {
      "cell_type": "code",
      "source": [
        "weight = [70, 68, 72, 71, 69, 73, 72, 74, 70, 71]\n",
        "n_w= len(weight)\n",
        "m_w= sum(weight)/n_w\n",
        "\n",
        "var_w = 0\n",
        "var_w = sum((w - m_w) ** 2 for w in weight) / (n_w - 1)\n",
        "std_w = var_w ** 0.5\n",
        "t_stat = (m_w - 70) / (std_w / (n_w ** 0.5))\n",
        "\n",
        "degree_freedom = n_w - 1\n",
        "t_critical = 2.262  #when alpha = 0.05\n",
        "if(t_stat) < t_critical:\n",
        "  print(\"Reject Null Hypothesis\")\n",
        "else:\n",
        "  print(\"Accept Null Hypothesis\")\n",
        "\n",
        "z_scores = [(x - m_w) / std_w for x in weight]\n",
        "\n",
        "print(\"Mean:\", m_w)\n",
        "print(\"Std Dev:\", std_w)\n",
        "print(\"t-statistic:\", t_stat)\n",
        "print(\"Z-scores:\", z_scores)\n"
      ],
      "metadata": {
        "colab": {
          "base_uri": "https://localhost:8080/"
        },
        "id": "85xTnVhBDxiW",
        "outputId": "35017406-8565-42bb-f6e4-62b5cb3bc5cf"
      },
      "execution_count": 5,
      "outputs": [
        {
          "output_type": "stream",
          "name": "stdout",
          "text": [
            "Reject Null Hypothesis\n",
            "Mean: 71.0\n",
            "Std Dev: 1.8257418583505538\n",
            "t-statistic: 1.7320508075688774\n",
            "Z-scores: [-0.5477225575051661, -1.6431676725154982, 0.5477225575051661, 0.0, -1.0954451150103321, 1.0954451150103321, 0.5477225575051661, 1.6431676725154982, -0.5477225575051661, 0.0]\n"
          ]
        }
      ]
    },
    {
      "cell_type": "markdown",
      "source": [
        "###**10. Dataset: Annual salaries of employees (in $1000s): 40, 42, 45, 47, 50, 52, 55,57, 60, 62**\n",
        "**Questions: a) Calculate the z-scores for each salary.**\n",
        "\n",
        "**b) Interpret the z-scores.**\n",
        "\n",
        "**c) Normal Distribution**"
      ],
      "metadata": {
        "id": "hI2cK4oTP676"
      }
    },
    {
      "cell_type": "code",
      "source": [
        "salaries = [40, 42, 45, 47, 50, 52, 55, 57, 60, 62]\n",
        "me_an = sum(salaries)/len(salaries)\n",
        "var = sum((x - me_an) ** 2 for x in salaries) / (len(salaries) - 1)\n",
        "std_dev = var ** 0.5\n",
        "z_scores = [(x - me_an)/std_dev for x in salaries]\n",
        "\n",
        "print(\"Salary | Deviation | Z-score\")\n",
        "\n",
        "for i in range(len(salaries)):\n",
        "  print(f\"{salaries[i]} | {salaries[i] - me_an} | {z_scores[i]:.2f}\")\n",
        "print(\"\\nMean =\", round(me_an, 3))\n",
        "print(\"Standard Deviation =\", round(std_dev, 3))\n",
        "print(f\"Z-scores: {z_scores}\")"
      ],
      "metadata": {
        "id": "X0KHdH4NURcK",
        "colab": {
          "base_uri": "https://localhost:8080/"
        },
        "outputId": "99645d43-0590-41fb-ccbc-2013c25f1366"
      },
      "execution_count": 6,
      "outputs": [
        {
          "output_type": "stream",
          "name": "stdout",
          "text": [
            "Salary | Deviation | Z-score\n",
            "40 | -11.0 | -1.46\n",
            "42 | -9.0 | -1.20\n",
            "45 | -6.0 | -0.80\n",
            "47 | -4.0 | -0.53\n",
            "50 | -1.0 | -0.13\n",
            "52 | 1.0 | 0.13\n",
            "55 | 4.0 | 0.53\n",
            "57 | 6.0 | 0.80\n",
            "60 | 9.0 | 1.20\n",
            "62 | 11.0 | 1.46\n",
            "\n",
            "Mean = 51.0\n",
            "Standard Deviation = 7.528\n",
            "Z-scores: [-1.4612645611411572, -1.1955800954791287, -0.7970533969860858, -0.5313689313240572, -0.1328422328310143, 0.1328422328310143, 0.5313689313240572, 0.7970533969860858, 1.1955800954791287, 1.4612645611411572]\n"
          ]
        }
      ]
    },
    {
      "cell_type": "markdown",
      "source": [
        "###**11.Dataset: Scores of students in a standardized test: 85, 87, 90, 92, 95, 97,100, 102, 105, 107**\n",
        "\n",
        "**a) Fit a normal distribution to the data and calculate the mean and standard deviation.**\n",
        "\n"
      ],
      "metadata": {
        "id": "n_YSSYJ_QLVm"
      }
    },
    {
      "cell_type": "code",
      "source": [
        "scores = [85, 87, 90, 92, 95, 97, 100, 102, 105, 107]\n",
        "mean = sum(scores) / len(scores)\n",
        "var = sum((x - mean) ** 2 for x in scores) / (len(scores) - 1)\n",
        "std_dev = var ** 0.5\n",
        "print(\"Mean is :\",mean)\n",
        "print(\"Standard Deviation is :\",std_dev)"
      ],
      "metadata": {
        "colab": {
          "base_uri": "https://localhost:8080/"
        },
        "id": "B9bMrZoRK_GJ",
        "outputId": "43b47982-fd53-4def-a562-9318ab4b80a6"
      },
      "execution_count": 7,
      "outputs": [
        {
          "output_type": "stream",
          "name": "stdout",
          "text": [
            "Mean is : 96.0\n",
            "Standard Deviation is : 7.52772652709081\n"
          ]
        }
      ]
    }
  ]
}