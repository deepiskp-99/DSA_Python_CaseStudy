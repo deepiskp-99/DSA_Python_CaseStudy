{
  "nbformat": 4,
  "nbformat_minor": 0,
  "metadata": {
    "colab": {
      "provenance": [],
      "authorship_tag": "ABX9TyMkr9oiIseqRmjLGA7tPlmI",
      "include_colab_link": true
    },
    "kernelspec": {
      "name": "python3",
      "display_name": "Python 3"
    },
    "language_info": {
      "name": "python"
    }
  },
  "cells": [
    {
      "cell_type": "markdown",
      "metadata": {
        "id": "view-in-github",
        "colab_type": "text"
      },
      "source": [
        "<a href=\"https://colab.research.google.com/github/deepiskp-99/DSA_Python_CaseStudy/blob/main/ETL_CaseStudy_Deepika.ipynb\" target=\"_parent\"><img src=\"https://colab.research.google.com/assets/colab-badge.svg\" alt=\"Open In Colab\"/></a>"
      ]
    },
    {
      "cell_type": "code",
      "execution_count": 21,
      "metadata": {
        "id": "hMH_RU967X7I"
      },
      "outputs": [],
      "source": [
        "import pandas as pd\n",
        "import sqlite3"
      ]
    },
    {
      "cell_type": "markdown",
      "source": [
        "##**1. Load the dataset into a DataFrame**"
      ],
      "metadata": {
        "id": "Qupguhzn_iWa"
      }
    },
    {
      "cell_type": "code",
      "source": [
        "url = \"https://earthquake.usgs.gov/earthquakes/feed/v1.0/summary/all_month.csv \"\n",
        "df = pd.read_csv(url)"
      ],
      "metadata": {
        "id": "d-EueFxixfw1"
      },
      "execution_count": 22,
      "outputs": []
    },
    {
      "cell_type": "markdown",
      "source": [
        "##**2.Identify number of records and unique locations**"
      ],
      "metadata": {
        "id": "URc0PZW5_oMd"
      }
    },
    {
      "cell_type": "code",
      "source": [
        "num_records = len(df)\n",
        "num_unique_places = df['place'].nunique()\n",
        "\n",
        "print(\"Number of records:\", num_records)\n",
        "print(\"Unique places:\", num_unique_places)"
      ],
      "metadata": {
        "colab": {
          "base_uri": "https://localhost:8080/"
        },
        "id": "eA8eBCpNyck9",
        "outputId": "719c261d-6327-47ad-b866-c161223529cc"
      },
      "execution_count": 23,
      "outputs": [
        {
          "output_type": "stream",
          "name": "stdout",
          "text": [
            "Number of records: 9887\n",
            "Unique places: 5250\n"
          ]
        }
      ]
    },
    {
      "cell_type": "markdown",
      "source": [
        "##**3.Print top 5 rows and column names**"
      ],
      "metadata": {
        "id": "LfFIYu18_05w"
      }
    },
    {
      "cell_type": "code",
      "source": [
        "print(df.head())\n"
      ],
      "metadata": {
        "colab": {
          "base_uri": "https://localhost:8080/"
        },
        "collapsed": true,
        "id": "R8GCXek6yn-Y",
        "outputId": "b6456ea7-b2c5-4750-e2b0-8c6ce29c6975"
      },
      "execution_count": 24,
      "outputs": [
        {
          "output_type": "stream",
          "name": "stdout",
          "text": [
            "                       time   latitude   longitude  depth   mag magType   nst  \\\n",
            "0  2025-09-21T16:05:57.480Z  35.705667 -117.570333   9.12  0.76      ml  29.0   \n",
            "1  2025-09-21T16:04:28.010Z  38.820835 -122.842163   2.29  0.97      md  15.0   \n",
            "2  2025-09-21T15:45:33.898Z  59.256100 -153.104500  87.70  1.60      ml   NaN   \n",
            "3  2025-09-21T15:44:09.233Z  60.541000 -144.903100  18.90  1.70      ml   NaN   \n",
            "4  2025-09-21T15:38:47.453Z  52.886600  161.021300  10.00  4.70      mb  58.0   \n",
            "\n",
            "     gap    dmin   rms  ...                   updated  \\\n",
            "0   43.0  0.1120  0.15  ...  2025-09-21T16:09:21.594Z   \n",
            "1  103.0  0.0133  0.01  ...  2025-09-21T16:06:05.878Z   \n",
            "2    NaN     NaN  0.28  ...  2025-09-21T15:47:15.575Z   \n",
            "3    NaN     NaN  0.38  ...  2025-09-21T15:45:27.566Z   \n",
            "4  165.0  1.4410  0.83  ...  2025-09-21T16:00:58.040Z   \n",
            "\n",
            "                                          place        type horizontalError  \\\n",
            "0                    13 km NE of Ridgecrest, CA  earthquake            0.20   \n",
            "1                    9 km NW of The Geysers, CA  earthquake            0.26   \n",
            "2                   68 km W of Nanwalek, Alaska  earthquake             NaN   \n",
            "3                    46 km E of Cordova, Alaska  earthquake             NaN   \n",
            "4  162 km E of Petropavlovsk-Kamchatsky, Russia  earthquake           11.14   \n",
            "\n",
            "  depthError  magError  magNst     status  locationSource magSource  \n",
            "0      0.630     0.186    13.0  automatic              ci        ci  \n",
            "1      0.450     0.120    15.0  automatic              nc        nc  \n",
            "2      0.800       NaN     NaN  automatic              ak        ak  \n",
            "3      0.100       NaN     NaN  automatic              ak        ak  \n",
            "4      1.823     0.039   200.0   reviewed              us        us  \n",
            "\n",
            "[5 rows x 22 columns]\n"
          ]
        }
      ]
    },
    {
      "cell_type": "markdown",
      "source": [
        "##**4.Convert time to datetime**"
      ],
      "metadata": {
        "id": "1hkM9Nvi_5of"
      }
    },
    {
      "cell_type": "code",
      "source": [
        "df['time'] = pd.to_datetime(df['time'])"
      ],
      "metadata": {
        "id": "j8wjLqoUy3yD"
      },
      "execution_count": 25,
      "outputs": []
    },
    {
      "cell_type": "markdown",
      "source": [
        "##**5.Drop records with missing latitude, longitude, mag**"
      ],
      "metadata": {
        "id": "-0xOQLZUAOtb"
      }
    },
    {
      "cell_type": "code",
      "source": [
        "df = df.dropna(subset=['latitude', 'longitude', 'mag'])"
      ],
      "metadata": {
        "id": "y1GJcc4kzIvA"
      },
      "execution_count": 26,
      "outputs": []
    },
    {
      "cell_type": "markdown",
      "source": [
        "##**6.Filter only earthquakes with magnitude >= 4.0**"
      ],
      "metadata": {
        "id": "DyUhh9QpAVXO"
      }
    },
    {
      "cell_type": "code",
      "source": [
        "df = df[df['mag'] >= 4.0]"
      ],
      "metadata": {
        "id": "RZvCao_jzLZY"
      },
      "execution_count": 27,
      "outputs": []
    },
    {
      "cell_type": "markdown",
      "source": [
        "##**7.Add a column day_of_week from time**"
      ],
      "metadata": {
        "id": "J9NWp608AboU"
      }
    },
    {
      "cell_type": "code",
      "source": [
        "df['day_of_week'] = df['time'].dt.day_name()"
      ],
      "metadata": {
        "id": "bkLIdqB7zNlU"
      },
      "execution_count": 28,
      "outputs": []
    },
    {
      "cell_type": "markdown",
      "source": [
        "##**8.● Create a column severity_level based on magnitude:**\n",
        "**○ <4.0: \"Low\"**\n",
        "**○ 4.0 - 6.0: \"Moderate\"**\n",
        "**○ 6.0+: \"High\"**"
      ],
      "metadata": {
        "id": "DBrk1FESAgJM"
      }
    },
    {
      "cell_type": "code",
      "source": [
        "def severity(mag):\n",
        "    if mag < 4.0:\n",
        "        return \"Low\"\n",
        "    elif 4.0 <= mag < 6.0:\n",
        "        return \"Moderate\"\n",
        "    else:\n",
        "        return \"High\"\n",
        "\n",
        "df['severity_level'] = df['mag'].apply(severity)"
      ],
      "metadata": {
        "id": "4KsMLfyAzQpc"
      },
      "execution_count": 29,
      "outputs": []
    },
    {
      "cell_type": "markdown",
      "source": [
        "##**9.Count number of earthquakes per place**"
      ],
      "metadata": {
        "id": "IzwFQ34YA1vj"
      }
    },
    {
      "cell_type": "code",
      "source": [
        "eq_counts = df['place'].value_counts().reset_index()\n",
        "eq_counts.columns = ['place', 'earthquake_count']"
      ],
      "metadata": {
        "id": "g_ga_wI7zdDI"
      },
      "execution_count": 30,
      "outputs": []
    },
    {
      "cell_type": "markdown",
      "source": [
        "##**10.Compute average magnitude and max depth per day**"
      ],
      "metadata": {
        "id": "kOYy8tHdBHz0"
      }
    },
    {
      "cell_type": "code",
      "source": [
        "summary = df.groupby(df['time'].dt.date).agg(\n",
        "    avg_magnitude=('mag', 'mean'),\n",
        "    max_depth=('depth', 'max')\n",
        ").reset_index()"
      ],
      "metadata": {
        "id": "n3tfCb8uBE8Z"
      },
      "execution_count": 31,
      "outputs": []
    },
    {
      "cell_type": "markdown",
      "source": [
        "##**11.Save: ○ Cleaned dataset to cleaned_earthquakes.csv**\n",
        "##**○ Summary data to earthquake_summary.csv**"
      ],
      "metadata": {
        "id": "y1Z9GPZjBXY8"
      }
    },
    {
      "cell_type": "code",
      "source": [
        "df.to_csv(\"cleaned_earthquakes.csv\", index=False)\n",
        "summary.to_csv(\"earthquake_summary.csv\", index=False)"
      ],
      "metadata": {
        "id": "-uDAu6ESzfi0"
      },
      "execution_count": 32,
      "outputs": []
    },
    {
      "cell_type": "markdown",
      "source": [
        "##**12.Store into SQLite**"
      ],
      "metadata": {
        "id": "j-enlG-4Bz9l"
      }
    },
    {
      "cell_type": "code",
      "source": [
        "conn = sqlite3.connect(\"earthquakes.db\")\n",
        "df.to_sql(\"earthquakes\", conn, if_exists=\"replace\", index=False)\n",
        "summary.to_sql(\"earthquake_summary\", conn, if_exists=\"replace\", index=False)\n",
        "conn.close()"
      ],
      "metadata": {
        "id": "seYN8SULBvYj"
      },
      "execution_count": 33,
      "outputs": []
    },
    {
      "cell_type": "markdown",
      "source": [
        "##**13.Create a flowchart of your ETL logic**"
      ],
      "metadata": {
        "id": "r7xxmO-OB44A"
      }
    },
    {
      "cell_type": "markdown",
      "source": [
        "             ┌─────────────────────┐\n",
        "             │   Extract Data      │\n",
        "             │  (USGS CSV online)  │\n",
        "             └─────────┬───────────┘\n",
        "                       │\n",
        "                       ▼\n",
        "             ┌─────────────────────┐\n",
        "             │   Transform Data    │\n",
        "             │ - Convert time      │\n",
        "             │ - Drop nulls        │\n",
        "             │ - Filter mag >= 4   │\n",
        "             │ - Add day_of_week   │\n",
        "             │ - Add severity      │\n",
        "             │ - Aggregations      │\n",
        "             └─────────┬───────────┘\n",
        "                       │\n",
        "                       ▼\n",
        "             ┌─────────────────────┐\n",
        "             │     Load Data       │\n",
        "             │ - Save CSV files    │\n",
        "             │ - Save SQLite DB    │\n",
        "             └─────────────────────┘\n"
      ],
      "metadata": {
        "id": "esnkMnaF_xJe"
      }
    },
    {
      "cell_type": "markdown",
      "source": [
        "##**14.  A short explanation of your process**"
      ],
      "metadata": {
        "id": "a5oZDTK_CwEg"
      }
    },
    {
      "cell_type": "markdown",
      "source": [
        "Extract: Pulled earthquake data directly from the USGS monthly CSV feed.\n",
        "\n",
        "Transform:\n",
        "\n",
        "Converted timestamps into datetime.\n",
        "\n",
        "Dropped incomplete records (latitude, longitude, mag missing).\n",
        "\n",
        "Filtered earthquakes with mag ≥ 4.0.\n",
        "\n",
        "Added day_of_week and severity_level.\n",
        "\n",
        "Aggregate: Computed number of earthquakes per place, and daily summary with average magnitude and max depth.\n",
        "\n",
        "Load: Stored results into CSV and SQLite for further analysis and sharing."
      ],
      "metadata": {
        "id": "PJgcUAirzu15"
      }
    },
    {
      "cell_type": "markdown",
      "source": [
        "##**15.One insight your team discovered from the data**"
      ],
      "metadata": {
        "id": "6eNwVTwoC2uN"
      }
    },
    {
      "cell_type": "markdown",
      "source": [
        "Most earthquakes occur in the “Ring of Fire” regions (e.g., Alaska, Indonesia, Japan, Chile).\n",
        "From initial inspection, moderate earthquakes (mag 4–6) dominate the dataset, while high severity (≥6) are rare but concentrated in seismic hotspots."
      ],
      "metadata": {
        "id": "vIcjJ4GLz2AS"
      }
    }
  ]
}