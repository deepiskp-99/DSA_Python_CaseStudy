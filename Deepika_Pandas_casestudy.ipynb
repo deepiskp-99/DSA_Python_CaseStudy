{
  "nbformat": 4,
  "nbformat_minor": 0,
  "metadata": {
    "colab": {
      "provenance": [],
      "authorship_tag": "ABX9TyMaHjlC0/MFv2e2TmBmkYwV",
      "include_colab_link": true
    },
    "kernelspec": {
      "name": "python3",
      "display_name": "Python 3"
    },
    "language_info": {
      "name": "python"
    }
  },
  "cells": [
    {
      "cell_type": "markdown",
      "metadata": {
        "id": "view-in-github",
        "colab_type": "text"
      },
      "source": [
        "<a href=\"https://colab.research.google.com/github/deepiskp-99/DSA_Python_CaseStudy/blob/main/Deepika_Pandas_casestudy.ipynb\" target=\"_parent\"><img src=\"https://colab.research.google.com/assets/colab-badge.svg\" alt=\"Open In Colab\"/></a>"
      ]
    },
    {
      "cell_type": "markdown",
      "source": [
        "1) Import pandas, numpy\n"
      ],
      "metadata": {
        "id": "CDwLTuFwIx9p"
      }
    },
    {
      "cell_type": "code",
      "execution_count": null,
      "metadata": {
        "id": "PdfzbSg2qUgN"
      },
      "outputs": [],
      "source": [
        "import pandas as pd\n",
        "import numpy as np"
      ]
    },
    {
      "cell_type": "markdown",
      "source": [
        "2) Load dataset using pd.read_csv()"
      ],
      "metadata": {
        "id": "wGH62_C1I2zx"
      }
    },
    {
      "cell_type": "code",
      "source": [
        "url =\"https://raw.githubusercontent.com/laxmimerit/All-CSV-ML-Data-Files-Download/master/IMDB-Movie-Data.csv\"\n",
        "df = pd.read_csv(url)\n"
      ],
      "metadata": {
        "id": "T9r5fagOrJ9x"
      },
      "execution_count": null,
      "outputs": []
    },
    {
      "cell_type": "markdown",
      "source": [
        "3) Display: shape, head, column names, datatypes, missing value"
      ],
      "metadata": {
        "id": "r5UNyfgjI6nf"
      }
    },
    {
      "cell_type": "code",
      "source": [
        "df.shape"
      ],
      "metadata": {
        "colab": {
          "base_uri": "https://localhost:8080/"
        },
        "id": "GlKeizqouVPT",
        "outputId": "f3a55247-7932-4758-d0a7-dc10e27a8cfd"
      },
      "execution_count": 6,
      "outputs": [
        {
          "output_type": "execute_result",
          "data": {
            "text/plain": [
              "(1000, 12)"
            ]
          },
          "metadata": {},
          "execution_count": 6
        }
      ]
    },
    {
      "cell_type": "code",
      "source": [
        "df.head()"
      ],
      "metadata": {
        "colab": {
          "base_uri": "https://localhost:8080/",
          "height": 397
        },
        "id": "8k2y2_zTvbuK",
        "outputId": "fa347a01-5045-4d42-e994-5799c6c7e628"
      },
      "execution_count": null,
      "outputs": [
        {
          "output_type": "execute_result",
          "data": {
            "text/plain": [
              "   Rank                    Title                     Genre  \\\n",
              "0     1  Guardians of the Galaxy   Action,Adventure,Sci-Fi   \n",
              "1     2               Prometheus  Adventure,Mystery,Sci-Fi   \n",
              "2     3                    Split           Horror,Thriller   \n",
              "3     4                     Sing   Animation,Comedy,Family   \n",
              "4     5            Suicide Squad  Action,Adventure,Fantasy   \n",
              "\n",
              "                                         Description              Director  \\\n",
              "0  A group of intergalactic criminals are forced ...            James Gunn   \n",
              "1  Following clues to the origin of mankind, a te...          Ridley Scott   \n",
              "2  Three girls are kidnapped by a man with a diag...    M. Night Shyamalan   \n",
              "3  In a city of humanoid animals, a hustling thea...  Christophe Lourdelet   \n",
              "4  A secret government agency recruits some of th...            David Ayer   \n",
              "\n",
              "                                              Actors  Year  Runtime (Minutes)  \\\n",
              "0  Chris Pratt, Vin Diesel, Bradley Cooper, Zoe S...  2014                121   \n",
              "1  Noomi Rapace, Logan Marshall-Green, Michael Fa...  2012                124   \n",
              "2  James McAvoy, Anya Taylor-Joy, Haley Lu Richar...  2016                117   \n",
              "3  Matthew McConaughey,Reese Witherspoon, Seth Ma...  2016                108   \n",
              "4  Will Smith, Jared Leto, Margot Robbie, Viola D...  2016                123   \n",
              "\n",
              "   Rating   Votes  Revenue (Millions)  Metascore  \n",
              "0     8.1  757074              333.13       76.0  \n",
              "1     7.0  485820              126.46       65.0  \n",
              "2     7.3  157606              138.12       62.0  \n",
              "3     7.2   60545              270.32       59.0  \n",
              "4     6.2  393727              325.02       40.0  "
            ],
            "text/html": [
              "\n",
              "  <div id=\"df-b8c83eb9-0931-4091-bc2d-76d86788935d\" class=\"colab-df-container\">\n",
              "    <div>\n",
              "<style scoped>\n",
              "    .dataframe tbody tr th:only-of-type {\n",
              "        vertical-align: middle;\n",
              "    }\n",
              "\n",
              "    .dataframe tbody tr th {\n",
              "        vertical-align: top;\n",
              "    }\n",
              "\n",
              "    .dataframe thead th {\n",
              "        text-align: right;\n",
              "    }\n",
              "</style>\n",
              "<table border=\"1\" class=\"dataframe\">\n",
              "  <thead>\n",
              "    <tr style=\"text-align: right;\">\n",
              "      <th></th>\n",
              "      <th>Rank</th>\n",
              "      <th>Title</th>\n",
              "      <th>Genre</th>\n",
              "      <th>Description</th>\n",
              "      <th>Director</th>\n",
              "      <th>Actors</th>\n",
              "      <th>Year</th>\n",
              "      <th>Runtime (Minutes)</th>\n",
              "      <th>Rating</th>\n",
              "      <th>Votes</th>\n",
              "      <th>Revenue (Millions)</th>\n",
              "      <th>Metascore</th>\n",
              "    </tr>\n",
              "  </thead>\n",
              "  <tbody>\n",
              "    <tr>\n",
              "      <th>0</th>\n",
              "      <td>1</td>\n",
              "      <td>Guardians of the Galaxy</td>\n",
              "      <td>Action,Adventure,Sci-Fi</td>\n",
              "      <td>A group of intergalactic criminals are forced ...</td>\n",
              "      <td>James Gunn</td>\n",
              "      <td>Chris Pratt, Vin Diesel, Bradley Cooper, Zoe S...</td>\n",
              "      <td>2014</td>\n",
              "      <td>121</td>\n",
              "      <td>8.1</td>\n",
              "      <td>757074</td>\n",
              "      <td>333.13</td>\n",
              "      <td>76.0</td>\n",
              "    </tr>\n",
              "    <tr>\n",
              "      <th>1</th>\n",
              "      <td>2</td>\n",
              "      <td>Prometheus</td>\n",
              "      <td>Adventure,Mystery,Sci-Fi</td>\n",
              "      <td>Following clues to the origin of mankind, a te...</td>\n",
              "      <td>Ridley Scott</td>\n",
              "      <td>Noomi Rapace, Logan Marshall-Green, Michael Fa...</td>\n",
              "      <td>2012</td>\n",
              "      <td>124</td>\n",
              "      <td>7.0</td>\n",
              "      <td>485820</td>\n",
              "      <td>126.46</td>\n",
              "      <td>65.0</td>\n",
              "    </tr>\n",
              "    <tr>\n",
              "      <th>2</th>\n",
              "      <td>3</td>\n",
              "      <td>Split</td>\n",
              "      <td>Horror,Thriller</td>\n",
              "      <td>Three girls are kidnapped by a man with a diag...</td>\n",
              "      <td>M. Night Shyamalan</td>\n",
              "      <td>James McAvoy, Anya Taylor-Joy, Haley Lu Richar...</td>\n",
              "      <td>2016</td>\n",
              "      <td>117</td>\n",
              "      <td>7.3</td>\n",
              "      <td>157606</td>\n",
              "      <td>138.12</td>\n",
              "      <td>62.0</td>\n",
              "    </tr>\n",
              "    <tr>\n",
              "      <th>3</th>\n",
              "      <td>4</td>\n",
              "      <td>Sing</td>\n",
              "      <td>Animation,Comedy,Family</td>\n",
              "      <td>In a city of humanoid animals, a hustling thea...</td>\n",
              "      <td>Christophe Lourdelet</td>\n",
              "      <td>Matthew McConaughey,Reese Witherspoon, Seth Ma...</td>\n",
              "      <td>2016</td>\n",
              "      <td>108</td>\n",
              "      <td>7.2</td>\n",
              "      <td>60545</td>\n",
              "      <td>270.32</td>\n",
              "      <td>59.0</td>\n",
              "    </tr>\n",
              "    <tr>\n",
              "      <th>4</th>\n",
              "      <td>5</td>\n",
              "      <td>Suicide Squad</td>\n",
              "      <td>Action,Adventure,Fantasy</td>\n",
              "      <td>A secret government agency recruits some of th...</td>\n",
              "      <td>David Ayer</td>\n",
              "      <td>Will Smith, Jared Leto, Margot Robbie, Viola D...</td>\n",
              "      <td>2016</td>\n",
              "      <td>123</td>\n",
              "      <td>6.2</td>\n",
              "      <td>393727</td>\n",
              "      <td>325.02</td>\n",
              "      <td>40.0</td>\n",
              "    </tr>\n",
              "  </tbody>\n",
              "</table>\n",
              "</div>\n",
              "    <div class=\"colab-df-buttons\">\n",
              "\n",
              "  <div class=\"colab-df-container\">\n",
              "    <button class=\"colab-df-convert\" onclick=\"convertToInteractive('df-b8c83eb9-0931-4091-bc2d-76d86788935d')\"\n",
              "            title=\"Convert this dataframe to an interactive table.\"\n",
              "            style=\"display:none;\">\n",
              "\n",
              "  <svg xmlns=\"http://www.w3.org/2000/svg\" height=\"24px\" viewBox=\"0 -960 960 960\">\n",
              "    <path d=\"M120-120v-720h720v720H120Zm60-500h600v-160H180v160Zm220 220h160v-160H400v160Zm0 220h160v-160H400v160ZM180-400h160v-160H180v160Zm440 0h160v-160H620v160ZM180-180h160v-160H180v160Zm440 0h160v-160H620v160Z\"/>\n",
              "  </svg>\n",
              "    </button>\n",
              "\n",
              "  <style>\n",
              "    .colab-df-container {\n",
              "      display:flex;\n",
              "      gap: 12px;\n",
              "    }\n",
              "\n",
              "    .colab-df-convert {\n",
              "      background-color: #E8F0FE;\n",
              "      border: none;\n",
              "      border-radius: 50%;\n",
              "      cursor: pointer;\n",
              "      display: none;\n",
              "      fill: #1967D2;\n",
              "      height: 32px;\n",
              "      padding: 0 0 0 0;\n",
              "      width: 32px;\n",
              "    }\n",
              "\n",
              "    .colab-df-convert:hover {\n",
              "      background-color: #E2EBFA;\n",
              "      box-shadow: 0px 1px 2px rgba(60, 64, 67, 0.3), 0px 1px 3px 1px rgba(60, 64, 67, 0.15);\n",
              "      fill: #174EA6;\n",
              "    }\n",
              "\n",
              "    .colab-df-buttons div {\n",
              "      margin-bottom: 4px;\n",
              "    }\n",
              "\n",
              "    [theme=dark] .colab-df-convert {\n",
              "      background-color: #3B4455;\n",
              "      fill: #D2E3FC;\n",
              "    }\n",
              "\n",
              "    [theme=dark] .colab-df-convert:hover {\n",
              "      background-color: #434B5C;\n",
              "      box-shadow: 0px 1px 3px 1px rgba(0, 0, 0, 0.15);\n",
              "      filter: drop-shadow(0px 1px 2px rgba(0, 0, 0, 0.3));\n",
              "      fill: #FFFFFF;\n",
              "    }\n",
              "  </style>\n",
              "\n",
              "    <script>\n",
              "      const buttonEl =\n",
              "        document.querySelector('#df-b8c83eb9-0931-4091-bc2d-76d86788935d button.colab-df-convert');\n",
              "      buttonEl.style.display =\n",
              "        google.colab.kernel.accessAllowed ? 'block' : 'none';\n",
              "\n",
              "      async function convertToInteractive(key) {\n",
              "        const element = document.querySelector('#df-b8c83eb9-0931-4091-bc2d-76d86788935d');\n",
              "        const dataTable =\n",
              "          await google.colab.kernel.invokeFunction('convertToInteractive',\n",
              "                                                    [key], {});\n",
              "        if (!dataTable) return;\n",
              "\n",
              "        const docLinkHtml = 'Like what you see? Visit the ' +\n",
              "          '<a target=\"_blank\" href=https://colab.research.google.com/notebooks/data_table.ipynb>data table notebook</a>'\n",
              "          + ' to learn more about interactive tables.';\n",
              "        element.innerHTML = '';\n",
              "        dataTable['output_type'] = 'display_data';\n",
              "        await google.colab.output.renderOutput(dataTable, element);\n",
              "        const docLink = document.createElement('div');\n",
              "        docLink.innerHTML = docLinkHtml;\n",
              "        element.appendChild(docLink);\n",
              "      }\n",
              "    </script>\n",
              "  </div>\n",
              "\n",
              "\n",
              "    <div id=\"df-6458ba33-752b-47ce-b2b9-8fd0a04bbdc1\">\n",
              "      <button class=\"colab-df-quickchart\" onclick=\"quickchart('df-6458ba33-752b-47ce-b2b9-8fd0a04bbdc1')\"\n",
              "                title=\"Suggest charts\"\n",
              "                style=\"display:none;\">\n",
              "\n",
              "<svg xmlns=\"http://www.w3.org/2000/svg\" height=\"24px\"viewBox=\"0 0 24 24\"\n",
              "     width=\"24px\">\n",
              "    <g>\n",
              "        <path d=\"M19 3H5c-1.1 0-2 .9-2 2v14c0 1.1.9 2 2 2h14c1.1 0 2-.9 2-2V5c0-1.1-.9-2-2-2zM9 17H7v-7h2v7zm4 0h-2V7h2v10zm4 0h-2v-4h2v4z\"/>\n",
              "    </g>\n",
              "</svg>\n",
              "      </button>\n",
              "\n",
              "<style>\n",
              "  .colab-df-quickchart {\n",
              "      --bg-color: #E8F0FE;\n",
              "      --fill-color: #1967D2;\n",
              "      --hover-bg-color: #E2EBFA;\n",
              "      --hover-fill-color: #174EA6;\n",
              "      --disabled-fill-color: #AAA;\n",
              "      --disabled-bg-color: #DDD;\n",
              "  }\n",
              "\n",
              "  [theme=dark] .colab-df-quickchart {\n",
              "      --bg-color: #3B4455;\n",
              "      --fill-color: #D2E3FC;\n",
              "      --hover-bg-color: #434B5C;\n",
              "      --hover-fill-color: #FFFFFF;\n",
              "      --disabled-bg-color: #3B4455;\n",
              "      --disabled-fill-color: #666;\n",
              "  }\n",
              "\n",
              "  .colab-df-quickchart {\n",
              "    background-color: var(--bg-color);\n",
              "    border: none;\n",
              "    border-radius: 50%;\n",
              "    cursor: pointer;\n",
              "    display: none;\n",
              "    fill: var(--fill-color);\n",
              "    height: 32px;\n",
              "    padding: 0;\n",
              "    width: 32px;\n",
              "  }\n",
              "\n",
              "  .colab-df-quickchart:hover {\n",
              "    background-color: var(--hover-bg-color);\n",
              "    box-shadow: 0 1px 2px rgba(60, 64, 67, 0.3), 0 1px 3px 1px rgba(60, 64, 67, 0.15);\n",
              "    fill: var(--button-hover-fill-color);\n",
              "  }\n",
              "\n",
              "  .colab-df-quickchart-complete:disabled,\n",
              "  .colab-df-quickchart-complete:disabled:hover {\n",
              "    background-color: var(--disabled-bg-color);\n",
              "    fill: var(--disabled-fill-color);\n",
              "    box-shadow: none;\n",
              "  }\n",
              "\n",
              "  .colab-df-spinner {\n",
              "    border: 2px solid var(--fill-color);\n",
              "    border-color: transparent;\n",
              "    border-bottom-color: var(--fill-color);\n",
              "    animation:\n",
              "      spin 1s steps(1) infinite;\n",
              "  }\n",
              "\n",
              "  @keyframes spin {\n",
              "    0% {\n",
              "      border-color: transparent;\n",
              "      border-bottom-color: var(--fill-color);\n",
              "      border-left-color: var(--fill-color);\n",
              "    }\n",
              "    20% {\n",
              "      border-color: transparent;\n",
              "      border-left-color: var(--fill-color);\n",
              "      border-top-color: var(--fill-color);\n",
              "    }\n",
              "    30% {\n",
              "      border-color: transparent;\n",
              "      border-left-color: var(--fill-color);\n",
              "      border-top-color: var(--fill-color);\n",
              "      border-right-color: var(--fill-color);\n",
              "    }\n",
              "    40% {\n",
              "      border-color: transparent;\n",
              "      border-right-color: var(--fill-color);\n",
              "      border-top-color: var(--fill-color);\n",
              "    }\n",
              "    60% {\n",
              "      border-color: transparent;\n",
              "      border-right-color: var(--fill-color);\n",
              "    }\n",
              "    80% {\n",
              "      border-color: transparent;\n",
              "      border-right-color: var(--fill-color);\n",
              "      border-bottom-color: var(--fill-color);\n",
              "    }\n",
              "    90% {\n",
              "      border-color: transparent;\n",
              "      border-bottom-color: var(--fill-color);\n",
              "    }\n",
              "  }\n",
              "</style>\n",
              "\n",
              "      <script>\n",
              "        async function quickchart(key) {\n",
              "          const quickchartButtonEl =\n",
              "            document.querySelector('#' + key + ' button');\n",
              "          quickchartButtonEl.disabled = true;  // To prevent multiple clicks.\n",
              "          quickchartButtonEl.classList.add('colab-df-spinner');\n",
              "          try {\n",
              "            const charts = await google.colab.kernel.invokeFunction(\n",
              "                'suggestCharts', [key], {});\n",
              "          } catch (error) {\n",
              "            console.error('Error during call to suggestCharts:', error);\n",
              "          }\n",
              "          quickchartButtonEl.classList.remove('colab-df-spinner');\n",
              "          quickchartButtonEl.classList.add('colab-df-quickchart-complete');\n",
              "        }\n",
              "        (() => {\n",
              "          let quickchartButtonEl =\n",
              "            document.querySelector('#df-6458ba33-752b-47ce-b2b9-8fd0a04bbdc1 button');\n",
              "          quickchartButtonEl.style.display =\n",
              "            google.colab.kernel.accessAllowed ? 'block' : 'none';\n",
              "        })();\n",
              "      </script>\n",
              "    </div>\n",
              "\n",
              "    </div>\n",
              "  </div>\n"
            ],
            "application/vnd.google.colaboratory.intrinsic+json": {
              "type": "dataframe",
              "variable_name": "df",
              "summary": "{\n  \"name\": \"df\",\n  \"rows\": 1000,\n  \"fields\": [\n    {\n      \"column\": \"Rank\",\n      \"properties\": {\n        \"dtype\": \"number\",\n        \"std\": 288,\n        \"min\": 1,\n        \"max\": 1000,\n        \"num_unique_values\": 1000,\n        \"samples\": [\n          522,\n          738,\n          741\n        ],\n        \"semantic_type\": \"\",\n        \"description\": \"\"\n      }\n    },\n    {\n      \"column\": \"Title\",\n      \"properties\": {\n        \"dtype\": \"string\",\n        \"num_unique_values\": 999,\n        \"samples\": [\n          \"Olympus Has Fallen\",\n          \"Man on a Ledge\",\n          \"The Girl with All the Gifts\"\n        ],\n        \"semantic_type\": \"\",\n        \"description\": \"\"\n      }\n    },\n    {\n      \"column\": \"Genre\",\n      \"properties\": {\n        \"dtype\": \"category\",\n        \"num_unique_values\": 207,\n        \"samples\": [\n          \"Mystery,Romance,Sci-Fi\",\n          \"Drama,Mystery,Sci-Fi\",\n          \"Drama,Mystery,Romance\"\n        ],\n        \"semantic_type\": \"\",\n        \"description\": \"\"\n      }\n    },\n    {\n      \"column\": \"Description\",\n      \"properties\": {\n        \"dtype\": \"string\",\n        \"num_unique_values\": 1000,\n        \"samples\": [\n          \"A lawyer finds himself in over his head when he gets involved in drug trafficking.\",\n          \"A CIA agent on the ground in Jordan hunts down a powerful terrorist leader while being caught between the unclear intentions of his American supervisors and Jordan Intelligence.\",\n          \"A titan of industry is sent to prison after she's caught insider trading. When she emerges ready to rebrand herself as America's latest sweetheart, not everyone she screwed over is so quick to forgive and forget.\"\n        ],\n        \"semantic_type\": \"\",\n        \"description\": \"\"\n      }\n    },\n    {\n      \"column\": \"Director\",\n      \"properties\": {\n        \"dtype\": \"string\",\n        \"num_unique_values\": 644,\n        \"samples\": [\n          \"Patricia Riggen\",\n          \"Gregory Wilson\",\n          \"Chris McCoy\"\n        ],\n        \"semantic_type\": \"\",\n        \"description\": \"\"\n      }\n    },\n    {\n      \"column\": \"Actors\",\n      \"properties\": {\n        \"dtype\": \"string\",\n        \"num_unique_values\": 996,\n        \"samples\": [\n          \"Adrian Titieni, Maria-Victoria Dragus, Lia Bugnar,Malina Manovici\",\n          \"Madina Nalwanga, David Oyelowo, Lupita Nyong'o, Martin Kabanza\",\n          \"Ry\\u00fbnosuke Kamiki, Mone Kamishiraishi, Ry\\u00f4 Narita, Aoi Yuki\"\n        ],\n        \"semantic_type\": \"\",\n        \"description\": \"\"\n      }\n    },\n    {\n      \"column\": \"Year\",\n      \"properties\": {\n        \"dtype\": \"number\",\n        \"std\": 3,\n        \"min\": 2006,\n        \"max\": 2016,\n        \"num_unique_values\": 11,\n        \"samples\": [\n          2011,\n          2014,\n          2010\n        ],\n        \"semantic_type\": \"\",\n        \"description\": \"\"\n      }\n    },\n    {\n      \"column\": \"Runtime (Minutes)\",\n      \"properties\": {\n        \"dtype\": \"number\",\n        \"std\": 18,\n        \"min\": 66,\n        \"max\": 191,\n        \"num_unique_values\": 94,\n        \"samples\": [\n          106,\n          99,\n          146\n        ],\n        \"semantic_type\": \"\",\n        \"description\": \"\"\n      }\n    },\n    {\n      \"column\": \"Rating\",\n      \"properties\": {\n        \"dtype\": \"number\",\n        \"std\": 0.9454287892779637,\n        \"min\": 1.9,\n        \"max\": 9.0,\n        \"num_unique_values\": 55,\n        \"samples\": [\n          7.4,\n          6.1,\n          4.1\n        ],\n        \"semantic_type\": \"\",\n        \"description\": \"\"\n      }\n    },\n    {\n      \"column\": \"Votes\",\n      \"properties\": {\n        \"dtype\": \"number\",\n        \"std\": 188762,\n        \"min\": 61,\n        \"max\": 1791916,\n        \"num_unique_values\": 997,\n        \"samples\": [\n          214994,\n          4370,\n          23713\n        ],\n        \"semantic_type\": \"\",\n        \"description\": \"\"\n      }\n    },\n    {\n      \"column\": \"Revenue (Millions)\",\n      \"properties\": {\n        \"dtype\": \"number\",\n        \"std\": 103.25354047492473,\n        \"min\": 0.0,\n        \"max\": 936.63,\n        \"num_unique_values\": 814,\n        \"samples\": [\n          89.02,\n          23.23,\n          202.85\n        ],\n        \"semantic_type\": \"\",\n        \"description\": \"\"\n      }\n    },\n    {\n      \"column\": \"Metascore\",\n      \"properties\": {\n        \"dtype\": \"number\",\n        \"std\": 17.194757023263836,\n        \"min\": 11.0,\n        \"max\": 100.0,\n        \"num_unique_values\": 84,\n        \"samples\": [\n          27.0,\n          76.0,\n          47.0\n        ],\n        \"semantic_type\": \"\",\n        \"description\": \"\"\n      }\n    }\n  ]\n}"
            }
          },
          "metadata": {},
          "execution_count": 14
        }
      ]
    },
    {
      "cell_type": "code",
      "source": [
        "df.columns"
      ],
      "metadata": {
        "colab": {
          "base_uri": "https://localhost:8080/"
        },
        "id": "GKufuFAtveE_",
        "outputId": "ba7dc9b4-5191-43f0-e0d0-531f24a69539"
      },
      "execution_count": 7,
      "outputs": [
        {
          "output_type": "execute_result",
          "data": {
            "text/plain": [
              "Index(['Rank', 'Title', 'Genre', 'Description', 'Director', 'Actors', 'Year',\n",
              "       'Runtime (Minutes)', 'Rating', 'Votes', 'Revenue (Millions)',\n",
              "       'Metascore'],\n",
              "      dtype='object')"
            ]
          },
          "metadata": {},
          "execution_count": 7
        }
      ]
    },
    {
      "cell_type": "code",
      "source": [
        "df.dtypes"
      ],
      "metadata": {
        "colab": {
          "base_uri": "https://localhost:8080/",
          "height": 460
        },
        "id": "TofTcUo4vnVm",
        "outputId": "a89eb0a0-bae1-48e7-8583-18ddf6b19265"
      },
      "execution_count": 8,
      "outputs": [
        {
          "output_type": "execute_result",
          "data": {
            "text/plain": [
              "Rank                    int64\n",
              "Title                  object\n",
              "Genre                  object\n",
              "Description            object\n",
              "Director               object\n",
              "Actors                 object\n",
              "Year                    int64\n",
              "Runtime (Minutes)       int64\n",
              "Rating                float64\n",
              "Votes                   int64\n",
              "Revenue (Millions)    float64\n",
              "Metascore             float64\n",
              "dtype: object"
            ],
            "text/html": [
              "<div>\n",
              "<style scoped>\n",
              "    .dataframe tbody tr th:only-of-type {\n",
              "        vertical-align: middle;\n",
              "    }\n",
              "\n",
              "    .dataframe tbody tr th {\n",
              "        vertical-align: top;\n",
              "    }\n",
              "\n",
              "    .dataframe thead th {\n",
              "        text-align: right;\n",
              "    }\n",
              "</style>\n",
              "<table border=\"1\" class=\"dataframe\">\n",
              "  <thead>\n",
              "    <tr style=\"text-align: right;\">\n",
              "      <th></th>\n",
              "      <th>0</th>\n",
              "    </tr>\n",
              "  </thead>\n",
              "  <tbody>\n",
              "    <tr>\n",
              "      <th>Rank</th>\n",
              "      <td>int64</td>\n",
              "    </tr>\n",
              "    <tr>\n",
              "      <th>Title</th>\n",
              "      <td>object</td>\n",
              "    </tr>\n",
              "    <tr>\n",
              "      <th>Genre</th>\n",
              "      <td>object</td>\n",
              "    </tr>\n",
              "    <tr>\n",
              "      <th>Description</th>\n",
              "      <td>object</td>\n",
              "    </tr>\n",
              "    <tr>\n",
              "      <th>Director</th>\n",
              "      <td>object</td>\n",
              "    </tr>\n",
              "    <tr>\n",
              "      <th>Actors</th>\n",
              "      <td>object</td>\n",
              "    </tr>\n",
              "    <tr>\n",
              "      <th>Year</th>\n",
              "      <td>int64</td>\n",
              "    </tr>\n",
              "    <tr>\n",
              "      <th>Runtime (Minutes)</th>\n",
              "      <td>int64</td>\n",
              "    </tr>\n",
              "    <tr>\n",
              "      <th>Rating</th>\n",
              "      <td>float64</td>\n",
              "    </tr>\n",
              "    <tr>\n",
              "      <th>Votes</th>\n",
              "      <td>int64</td>\n",
              "    </tr>\n",
              "    <tr>\n",
              "      <th>Revenue (Millions)</th>\n",
              "      <td>float64</td>\n",
              "    </tr>\n",
              "    <tr>\n",
              "      <th>Metascore</th>\n",
              "      <td>float64</td>\n",
              "    </tr>\n",
              "  </tbody>\n",
              "</table>\n",
              "</div><br><label><b>dtype:</b> object</label>"
            ]
          },
          "metadata": {},
          "execution_count": 8
        }
      ]
    },
    {
      "cell_type": "code",
      "source": [
        "df.isnull().sum()"
      ],
      "metadata": {
        "colab": {
          "base_uri": "https://localhost:8080/",
          "height": 460
        },
        "id": "6m4c-f3svvXs",
        "outputId": "4bddcb5b-d562-4d92-f471-2f9f61730a02"
      },
      "execution_count": 9,
      "outputs": [
        {
          "output_type": "execute_result",
          "data": {
            "text/plain": [
              "Rank                    0\n",
              "Title                   0\n",
              "Genre                   0\n",
              "Description             0\n",
              "Director                0\n",
              "Actors                  0\n",
              "Year                    0\n",
              "Runtime (Minutes)       0\n",
              "Rating                  0\n",
              "Votes                   0\n",
              "Revenue (Millions)    128\n",
              "Metascore              64\n",
              "dtype: int64"
            ],
            "text/html": [
              "<div>\n",
              "<style scoped>\n",
              "    .dataframe tbody tr th:only-of-type {\n",
              "        vertical-align: middle;\n",
              "    }\n",
              "\n",
              "    .dataframe tbody tr th {\n",
              "        vertical-align: top;\n",
              "    }\n",
              "\n",
              "    .dataframe thead th {\n",
              "        text-align: right;\n",
              "    }\n",
              "</style>\n",
              "<table border=\"1\" class=\"dataframe\">\n",
              "  <thead>\n",
              "    <tr style=\"text-align: right;\">\n",
              "      <th></th>\n",
              "      <th>0</th>\n",
              "    </tr>\n",
              "  </thead>\n",
              "  <tbody>\n",
              "    <tr>\n",
              "      <th>Rank</th>\n",
              "      <td>0</td>\n",
              "    </tr>\n",
              "    <tr>\n",
              "      <th>Title</th>\n",
              "      <td>0</td>\n",
              "    </tr>\n",
              "    <tr>\n",
              "      <th>Genre</th>\n",
              "      <td>0</td>\n",
              "    </tr>\n",
              "    <tr>\n",
              "      <th>Description</th>\n",
              "      <td>0</td>\n",
              "    </tr>\n",
              "    <tr>\n",
              "      <th>Director</th>\n",
              "      <td>0</td>\n",
              "    </tr>\n",
              "    <tr>\n",
              "      <th>Actors</th>\n",
              "      <td>0</td>\n",
              "    </tr>\n",
              "    <tr>\n",
              "      <th>Year</th>\n",
              "      <td>0</td>\n",
              "    </tr>\n",
              "    <tr>\n",
              "      <th>Runtime (Minutes)</th>\n",
              "      <td>0</td>\n",
              "    </tr>\n",
              "    <tr>\n",
              "      <th>Rating</th>\n",
              "      <td>0</td>\n",
              "    </tr>\n",
              "    <tr>\n",
              "      <th>Votes</th>\n",
              "      <td>0</td>\n",
              "    </tr>\n",
              "    <tr>\n",
              "      <th>Revenue (Millions)</th>\n",
              "      <td>128</td>\n",
              "    </tr>\n",
              "    <tr>\n",
              "      <th>Metascore</th>\n",
              "      <td>64</td>\n",
              "    </tr>\n",
              "  </tbody>\n",
              "</table>\n",
              "</div><br><label><b>dtype:</b> int64</label>"
            ]
          },
          "metadata": {},
          "execution_count": 9
        }
      ]
    },
    {
      "cell_type": "markdown",
      "source": [
        "4) Check and remove duplicates"
      ],
      "metadata": {
        "id": "drMVN1zLI_Sz"
      }
    },
    {
      "cell_type": "code",
      "source": [
        "duplicate_count = df.duplicated().sum()\n",
        "print(\"Number of duplicate rows:\", duplicate_count)\n",
        "\n",
        "df[df.duplicated()].head()\n",
        "\n",
        "df = df.drop_duplicates()\n",
        "\n",
        "print(\"Shape after removing duplicates:\", df.shape)"
      ],
      "metadata": {
        "colab": {
          "base_uri": "https://localhost:8080/"
        },
        "id": "fBPxcsIGwYhX",
        "outputId": "fab5ef5a-ecee-4968-eef4-12d537acd6fc"
      },
      "execution_count": 10,
      "outputs": [
        {
          "output_type": "stream",
          "name": "stdout",
          "text": [
            "Number of duplicate rows: 0\n",
            "Shape after removing duplicates: (1000, 12)\n"
          ]
        }
      ]
    },
    {
      "cell_type": "markdown",
      "source": [
        "5) Rename columns (\"Title\" > \"Movie_Title\")\n"
      ],
      "metadata": {
        "id": "MDi3J6qmJFoz"
      }
    },
    {
      "cell_type": "code",
      "source": [
        "df = df.rename(columns={'Title':'Movie_Title'})\n",
        "\n",
        "print(df.columns)"
      ],
      "metadata": {
        "colab": {
          "base_uri": "https://localhost:8080/"
        },
        "id": "sjjtpkC1xIP9",
        "outputId": "5f5827f3-0572-498b-cd59-59cb235143dd"
      },
      "execution_count": 11,
      "outputs": [
        {
          "output_type": "stream",
          "name": "stdout",
          "text": [
            "Index(['Rank', 'Movie_Title', 'Genre', 'Description', 'Director', 'Actors',\n",
            "       'Year', 'Runtime (Minutes)', 'Rating', 'Votes', 'Revenue (Millions)',\n",
            "       'Metascore'],\n",
            "      dtype='object')\n"
          ]
        }
      ]
    },
    {
      "cell_type": "markdown",
      "source": [
        "6) Get unique genres"
      ],
      "metadata": {
        "id": "zitymFYlJIdj"
      }
    },
    {
      "cell_type": "code",
      "source": [
        "unique_genres = (\n",
        "    df['Genre']\n",
        "    .str.split(',')\n",
        "    .explode()\n",
        "    .unique()\n",
        ")\n",
        "print(unique_genres)"
      ],
      "metadata": {
        "colab": {
          "base_uri": "https://localhost:8080/"
        },
        "id": "FiP8Zq3ZxRt_",
        "outputId": "20ba0c24-540d-4e53-be7f-23ad72411507"
      },
      "execution_count": 12,
      "outputs": [
        {
          "output_type": "stream",
          "name": "stdout",
          "text": [
            "['Action' 'Adventure' 'Sci-Fi' 'Mystery' 'Horror' 'Thriller' 'Animation'\n",
            " 'Comedy' 'Family' 'Fantasy' 'Drama' 'Music' 'Biography' 'Romance'\n",
            " 'History' 'Crime' 'Western' 'War' 'Musical' 'Sport']\n"
          ]
        }
      ]
    },
    {
      "cell_type": "markdown",
      "source": [
        "7) Extract number of genres per movie\n"
      ],
      "metadata": {
        "id": "DBpe6LLCJLm4"
      }
    },
    {
      "cell_type": "code",
      "source": [
        "no_of_genres_per_movie = df['Genre'].str.split(',').str.len()\n",
        "print(no_of_genres_per_movie)"
      ],
      "metadata": {
        "colab": {
          "base_uri": "https://localhost:8080/"
        },
        "id": "-NacnwUUxdKC",
        "outputId": "93c4f20b-be07-45e1-dc01-b58add1d82da"
      },
      "execution_count": 13,
      "outputs": [
        {
          "output_type": "stream",
          "name": "stdout",
          "text": [
            "0      3\n",
            "1      3\n",
            "2      2\n",
            "3      3\n",
            "4      3\n",
            "      ..\n",
            "995    3\n",
            "996    1\n",
            "997    3\n",
            "998    2\n",
            "999    3\n",
            "Name: Genre, Length: 1000, dtype: int64\n"
          ]
        }
      ]
    },
    {
      "cell_type": "code",
      "source": [
        "no_of_genres_per_movie = df['Genre'].apply(lambda x: len(x.split(',')))\n",
        "\n",
        "df['num_genres'] = no_of_genres_per_movie\n",
        "\n",
        "print(df[['Movie_Title', 'Genre', 'num_genres']].head())"
      ],
      "metadata": {
        "colab": {
          "base_uri": "https://localhost:8080/"
        },
        "id": "T-b9DffqxjPt",
        "outputId": "5e3894a0-af69-4029-d7b9-3b1b0b24b7f4"
      },
      "execution_count": 14,
      "outputs": [
        {
          "output_type": "stream",
          "name": "stdout",
          "text": [
            "               Movie_Title                     Genre  num_genres\n",
            "0  Guardians of the Galaxy   Action,Adventure,Sci-Fi           3\n",
            "1               Prometheus  Adventure,Mystery,Sci-Fi           3\n",
            "2                    Split           Horror,Thriller           2\n",
            "3                     Sing   Animation,Comedy,Family           3\n",
            "4            Suicide Squad  Action,Adventure,Fantasy           3\n"
          ]
        }
      ]
    },
    {
      "cell_type": "markdown",
      "source": [
        "8) Handle missing values in 'Revenue (Millions)' and 'Metascore"
      ],
      "metadata": {
        "id": "Uu4q1YSUKGSM"
      }
    },
    {
      "cell_type": "code",
      "source": [
        "print(df[['Revenue (Millions)', 'Metascore']].isnull().sum())"
      ],
      "metadata": {
        "colab": {
          "base_uri": "https://localhost:8080/"
        },
        "id": "htZhlGPFxr_H",
        "outputId": "630a4e48-19e6-4be8-be97-6cd338f4419c"
      },
      "execution_count": 15,
      "outputs": [
        {
          "output_type": "stream",
          "name": "stdout",
          "text": [
            "Revenue (Millions)    128\n",
            "Metascore              64\n",
            "dtype: int64\n"
          ]
        }
      ]
    },
    {
      "cell_type": "code",
      "source": [
        "df['Revenue (Millions)'] = df['Revenue (Millions)'].fillna(0)\n",
        "df['Metascore'] = df['Metascore'].fillna(df['Metascore'].median())\n",
        "\n",
        "\n",
        "print(df[['Revenue (Millions)', 'Metascore']].isnull().sum())"
      ],
      "metadata": {
        "colab": {
          "base_uri": "https://localhost:8080/"
        },
        "id": "5G2ShgQOxz4z",
        "outputId": "2e0e8b23-42aa-4771-fe45-a7b3cd171c3d"
      },
      "execution_count": 16,
      "outputs": [
        {
          "output_type": "stream",
          "name": "stdout",
          "text": [
            "Revenue (Millions)    0\n",
            "Metascore             0\n",
            "dtype: int64\n"
          ]
        }
      ]
    },
    {
      "cell_type": "markdown",
      "source": [
        "9) Top 5 movies by Rating\n"
      ],
      "metadata": {
        "id": "rMneapCsKReY"
      }
    },
    {
      "cell_type": "code",
      "source": [
        "Top_five_rating = df.sort_values(by='Rating', ascending=False).head(5)\n",
        "print(Top_five_rating[['Movie_Title', 'Rating']])"
      ],
      "metadata": {
        "colab": {
          "base_uri": "https://localhost:8080/"
        },
        "id": "Iin8ijiOx3Im",
        "outputId": "808eab38-9e39-4468-8463-97b62c8b3891"
      },
      "execution_count": 17,
      "outputs": [
        {
          "output_type": "stream",
          "name": "stdout",
          "text": [
            "          Movie_Title  Rating\n",
            "54    The Dark Knight     9.0\n",
            "80          Inception     8.8\n",
            "117            Dangal     8.8\n",
            "36       Interstellar     8.6\n",
            "249  The Intouchables     8.6\n"
          ]
        }
      ]
    },
    {
      "cell_type": "markdown",
      "source": [
        "10) Movies with highest/lowest revenue\n"
      ],
      "metadata": {
        "id": "TZ9IsJX6KW4w"
      }
    },
    {
      "cell_type": "code",
      "source": [
        "highest_revenue_movie_index = df['Revenue (Millions)'].idxmax()\n",
        "lowest_revenue_movie_index = df['Revenue (Millions)'].idxmin()\n",
        "\n",
        "print(\"Movie with highest revenue : \",df.loc[highest_revenue_movie_index])\n",
        "print(\"\\n\\nMovie with lowest revenue : \",df.loc[lowest_revenue_movie_index])"
      ],
      "metadata": {
        "colab": {
          "base_uri": "https://localhost:8080/"
        },
        "id": "cE3Sfe1gx7vZ",
        "outputId": "2082b588-5728-4d0a-f90b-35871fdb8903"
      },
      "execution_count": 18,
      "outputs": [
        {
          "output_type": "stream",
          "name": "stdout",
          "text": [
            "Movie with highest revenue :  Rank                                                                 51\n",
            "Movie_Title                  Star Wars: Episode VII - The Force Awakens\n",
            "Genre                                          Action,Adventure,Fantasy\n",
            "Description           Three decades after the defeat of the Galactic...\n",
            "Director                                                    J.J. Abrams\n",
            "Actors                Daisy Ridley, John Boyega, Oscar Isaac, Domhna...\n",
            "Year                                                               2015\n",
            "Runtime (Minutes)                                                   136\n",
            "Rating                                                              8.1\n",
            "Votes                                                            661608\n",
            "Revenue (Millions)                                               936.63\n",
            "Metascore                                                          81.0\n",
            "num_genres                                                            3\n",
            "Name: 50, dtype: object\n",
            "\n",
            "\n",
            "Movie with lowest revenue :  Rank                                                                  8\n",
            "Movie_Title                                                    Mindhorn\n",
            "Genre                                                            Comedy\n",
            "Description           A has-been actor best known for playing the ti...\n",
            "Director                                                     Sean Foley\n",
            "Actors                Essie Davis, Andrea Riseborough, Julian Barrat...\n",
            "Year                                                               2016\n",
            "Runtime (Minutes)                                                    89\n",
            "Rating                                                              6.4\n",
            "Votes                                                              2490\n",
            "Revenue (Millions)                                                  0.0\n",
            "Metascore                                                          71.0\n",
            "num_genres                                                            1\n",
            "Name: 7, dtype: object\n"
          ]
        }
      ]
    },
    {
      "cell_type": "markdown",
      "source": [
        "11) Avg. rating by Director"
      ],
      "metadata": {
        "id": "FY9gFFygKcze"
      }
    },
    {
      "cell_type": "code",
      "source": [
        "avg_rating_by_director = df.groupby('Director')['Rating'].mean()\n",
        "print(avg_rating_by_director)"
      ],
      "metadata": {
        "colab": {
          "base_uri": "https://localhost:8080/"
        },
        "id": "b8zukUNDygcl",
        "outputId": "83a6acd4-050f-4b32-e0b7-8530c04ce4cd"
      },
      "execution_count": 19,
      "outputs": [
        {
          "output_type": "stream",
          "name": "stdout",
          "text": [
            "Director\n",
            "Aamir Khan             8.50\n",
            "Abdellatif Kechiche    7.80\n",
            "Adam Leon              6.50\n",
            "Adam McKay             7.00\n",
            "Adam Shankman          6.30\n",
            "                       ... \n",
            "Xavier Dolan           7.55\n",
            "Yimou Zhang            6.10\n",
            "Yorgos Lanthimos       7.20\n",
            "Zack Snyder            7.04\n",
            "Zackary Adler          5.10\n",
            "Name: Rating, Length: 644, dtype: float64\n"
          ]
        }
      ]
    },
    {
      "cell_type": "markdown",
      "source": [
        "12) Movies per year\n"
      ],
      "metadata": {
        "id": "XK_rCuA3KgSR"
      }
    },
    {
      "cell_type": "code",
      "source": [
        "movies_per_year = df['Year'].value_counts()\n",
        "print(movies_per_year)"
      ],
      "metadata": {
        "colab": {
          "base_uri": "https://localhost:8080/"
        },
        "id": "5_FuLlTBykNe",
        "outputId": "53da1e24-eff3-4542-d78b-22d0a56152e2"
      },
      "execution_count": 20,
      "outputs": [
        {
          "output_type": "stream",
          "name": "stdout",
          "text": [
            "Year\n",
            "2016    297\n",
            "2015    127\n",
            "2014     98\n",
            "2013     91\n",
            "2012     64\n",
            "2011     63\n",
            "2010     60\n",
            "2007     53\n",
            "2008     52\n",
            "2009     51\n",
            "2006     44\n",
            "Name: count, dtype: int64\n"
          ]
        }
      ]
    },
    {
      "cell_type": "markdown",
      "source": [
        "13) Movies with rating > 8 & revenue > 100M"
      ],
      "metadata": {
        "id": "1HnSPWdRKj5Q"
      }
    },
    {
      "cell_type": "code",
      "source": [
        "filtered_movies = df[(df['Rating'] > 8 )& (df['Revenue (Millions)'] > 100)]\n",
        "print(filtered_movies[['Movie_Title', 'Rating', 'Revenue (Millions)']])"
      ],
      "metadata": {
        "colab": {
          "base_uri": "https://localhost:8080/"
        },
        "id": "BBSutk7OynlI",
        "outputId": "d8bb8166-1f1a-4710-da5a-8f3a4da15bdd"
      },
      "execution_count": 21,
      "outputs": [
        {
          "output_type": "stream",
          "name": "stdout",
          "text": [
            "                                      Movie_Title  Rating  Revenue (Millions)\n",
            "0                         Guardians of the Galaxy     8.1              333.13\n",
            "6                                      La La Land     8.3              151.06\n",
            "36                                   Interstellar     8.6              187.99\n",
            "50     Star Wars: Episode VII - The Force Awakens     8.1              936.63\n",
            "54                                The Dark Knight     9.0              533.32\n",
            "67                             Mad Max: Fury Road     8.1              153.63\n",
            "74                                       Zootopia     8.1              341.26\n",
            "76                                   The Avengers     8.1              623.28\n",
            "77                           Inglourious Basterds     8.3              120.52\n",
            "80                                      Inception     8.8              292.57\n",
            "82                        The Wolf of Wall Street     8.2              116.87\n",
            "83                                      Gone Girl     8.1              167.74\n",
            "92                                       The Help     8.1              169.71\n",
            "99                                   The Departed     8.5              132.37\n",
            "114  Harry Potter and the Deathly Hallows: Part 2     8.1              380.96\n",
            "124                         The Dark Knight Rises     8.5              448.13\n",
            "138                                Shutter Island     8.1              127.97\n",
            "144                              Django Unchained     8.4              162.80\n",
            "241                                    Inside Out     8.2              356.45\n",
            "427                          The Bourne Ultimatum     8.1              227.14\n",
            "499                                            Up     8.3              292.98\n",
            "634                                        WALL·E     8.4              223.81\n",
            "645                                   Gran Torino     8.2              148.09\n",
            "688                                   Toy Story 3     8.3              414.98\n",
            "772                      How to Train Your Dragon     8.1              217.39\n"
          ]
        }
      ]
    },
    {
      "cell_type": "markdown",
      "source": [
        "14) Group by Director: avg Rating, Revenue"
      ],
      "metadata": {
        "id": "B-AGBN9IKo6V"
      }
    },
    {
      "cell_type": "code",
      "source": [
        "Group_by_Director = df.groupby('Director')[['Rating', 'Revenue (Millions)']].mean()\n",
        "print(Group_by_Director)"
      ],
      "metadata": {
        "colab": {
          "base_uri": "https://localhost:8080/"
        },
        "id": "hY98Pj4uyquo",
        "outputId": "6e1b9e3c-4e72-4ce2-f3c3-173cd3db5c30"
      },
      "execution_count": 22,
      "outputs": [
        {
          "output_type": "stream",
          "name": "stdout",
          "text": [
            "                     Rating  Revenue (Millions)\n",
            "Director                                       \n",
            "Aamir Khan             8.50               1.200\n",
            "Abdellatif Kechiche    7.80               2.200\n",
            "Adam Leon              6.50               0.000\n",
            "Adam McKay             7.00             109.535\n",
            "Adam Shankman          6.30              78.665\n",
            "...                     ...                 ...\n",
            "Xavier Dolan           7.55               1.745\n",
            "Yimou Zhang            6.10              45.130\n",
            "Yorgos Lanthimos       7.20               4.405\n",
            "Zack Snyder            7.04             195.148\n",
            "Zackary Adler          5.10               6.530\n",
            "\n",
            "[644 rows x 2 columns]\n"
          ]
        }
      ]
    },
    {
      "cell_type": "markdown",
      "source": [
        "15) Group by Year: count, avg Rating\n"
      ],
      "metadata": {
        "id": "I-Y-pAWIKtJ8"
      }
    },
    {
      "cell_type": "code",
      "source": [
        "Group_by_Year = df.groupby('Year').agg({'Rating': 'mean', 'Movie_Title': 'count'})\n",
        "print(Group_by_Year)"
      ],
      "metadata": {
        "colab": {
          "base_uri": "https://localhost:8080/"
        },
        "id": "nPIEv7Ecy-EY",
        "outputId": "b24b72f6-2387-493b-9cfd-513484602dc9"
      },
      "execution_count": 23,
      "outputs": [
        {
          "output_type": "stream",
          "name": "stdout",
          "text": [
            "        Rating  Movie_Title\n",
            "Year                       \n",
            "2006  7.125000           44\n",
            "2007  7.133962           53\n",
            "2008  6.784615           52\n",
            "2009  6.960784           51\n",
            "2010  6.826667           60\n",
            "2011  6.838095           63\n",
            "2012  6.925000           64\n",
            "2013  6.812088           91\n",
            "2014  6.837755           98\n",
            "2015  6.602362          127\n",
            "2016  6.436700          297\n"
          ]
        }
      ]
    },
    {
      "cell_type": "markdown",
      "source": [
        "16) Create a new column Profitability:\n",
        "a) Revenue divided by Duration\n",
        "b) Find top 10 most profitable movies"
      ],
      "metadata": {
        "id": "au5AUEajK0JA"
      }
    },
    {
      "cell_type": "code",
      "source": [
        "df['Profitability'] = df['Revenue (Millions)']/df['Runtime (Minutes)']\n",
        "top_10_profitable_movies = df.sort_values(by = 'Profitability',ascending = False).head(10)\n",
        "print(top_10_profitable_movies[['Movie_Title' , 'Profitability']])"
      ],
      "metadata": {
        "colab": {
          "base_uri": "https://localhost:8080/"
        },
        "id": "W7-m9ZN0zBdc",
        "outputId": "739bf0a6-56cb-40db-f731-f2432fe3fbf6"
      },
      "execution_count": 24,
      "outputs": [
        {
          "output_type": "stream",
          "name": "stdout",
          "text": [
            "                                    Movie_Title  Profitability\n",
            "50   Star Wars: Episode VII - The Force Awakens       6.886985\n",
            "85                               Jurassic World       5.259516\n",
            "119                                Finding Dory       5.013299\n",
            "87                                       Avatar       4.694506\n",
            "76                                 The Avengers       4.358601\n",
            "15                      The Secret Life of Pets       4.233448\n",
            "688                                 Toy Story 3       4.028932\n",
            "12                                    Rogue One       4.001278\n",
            "174                                      Frozen       3.928824\n",
            "797                             Despicable Me 2       3.755612\n"
          ]
        }
      ]
    },
    {
      "cell_type": "markdown",
      "source": [
        "17) Create a column that categorizes movies by rating:\n",
        "a) Rating < 6: Poor\n",
        "b) 6 ≤ Rating < 7.5: Average\n",
        "c) Rating ≥ 7.5: Excellent\n"
      ],
      "metadata": {
        "id": "sjNBmjNEK4MB"
      }
    },
    {
      "cell_type": "code",
      "source": [
        "def categorize_rating(r):\n",
        "    if r < 6:\n",
        "        return 'Poor'\n",
        "    elif r < 7.5:\n",
        "        return 'Average'\n",
        "    else:\n",
        "        return 'Excellent'\n",
        "\n",
        "df['Rating_Category'] = df['Rating'].apply(categorize_rating)\n",
        "\n",
        "print(df[['Movie_Title', 'Rating', 'Rating_Category']].head(10))"
      ],
      "metadata": {
        "colab": {
          "base_uri": "https://localhost:8080/"
        },
        "id": "IM9fsz7wzEaH",
        "outputId": "6e18e1e2-d85d-4867-875a-5e908fb715d9"
      },
      "execution_count": 25,
      "outputs": [
        {
          "output_type": "stream",
          "name": "stdout",
          "text": [
            "               Movie_Title  Rating Rating_Category\n",
            "0  Guardians of the Galaxy     8.1       Excellent\n",
            "1               Prometheus     7.0         Average\n",
            "2                    Split     7.3         Average\n",
            "3                     Sing     7.2         Average\n",
            "4            Suicide Squad     6.2         Average\n",
            "5           The Great Wall     6.1         Average\n",
            "6               La La Land     8.3       Excellent\n",
            "7                 Mindhorn     6.4         Average\n",
            "8       The Lost City of Z     7.1         Average\n",
            "9               Passengers     7.0         Average\n"
          ]
        }
      ]
    },
    {
      "cell_type": "markdown",
      "source": [
        "18) Create a custom function to score movies based on:\n",
        "i) Apply row['Rating'] * 10 + row['Revenue (Millions)'] as High score\n",
        "Apply a function to dataset to assign the score"
      ],
      "metadata": {
        "id": "AlDZI3eEK7Oh"
      }
    },
    {
      "cell_type": "code",
      "source": [
        "def score_movie(row):\n",
        "  return row['Rating'] * 10 + row['Revenue (Millions)']\n",
        "\n",
        "df['score'] = df.apply(score_movie , axis =1)\n",
        "print(df[['Movie_Title', 'score']])"
      ],
      "metadata": {
        "colab": {
          "base_uri": "https://localhost:8080/"
        },
        "id": "dSBKJfs4zKpf",
        "outputId": "cd75bf0c-9a3c-435a-ba3a-611b1969f2e3"
      },
      "execution_count": 26,
      "outputs": [
        {
          "output_type": "stream",
          "name": "stdout",
          "text": [
            "                 Movie_Title   score\n",
            "0    Guardians of the Galaxy  414.13\n",
            "1                 Prometheus  196.46\n",
            "2                      Split  211.12\n",
            "3                       Sing  342.32\n",
            "4              Suicide Squad  387.02\n",
            "..                       ...     ...\n",
            "995     Secret in Their Eyes   62.00\n",
            "996          Hostel: Part II   72.54\n",
            "997   Step Up 2: The Streets  120.01\n",
            "998             Search Party   56.00\n",
            "999               Nine Lives   72.64\n",
            "\n",
            "[1000 rows x 2 columns]\n"
          ]
        }
      ]
    }
  ]
}