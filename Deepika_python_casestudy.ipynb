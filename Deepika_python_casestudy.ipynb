{
  "nbformat": 4,
  "nbformat_minor": 0,
  "metadata": {
    "colab": {
      "provenance": [],
      "include_colab_link": true
    },
    "kernelspec": {
      "name": "python3",
      "display_name": "Python 3"
    },
    "language_info": {
      "name": "python"
    }
  },
  "cells": [
    {
      "cell_type": "markdown",
      "metadata": {
        "id": "view-in-github",
        "colab_type": "text"
      },
      "source": [
        "<a href=\"https://colab.research.google.com/github/deepiskp-99/DSA_Python_CaseStudy/blob/main/Deepika_python_casestudy.ipynb\" target=\"_parent\"><img src=\"https://colab.research.google.com/assets/colab-badge.svg\" alt=\"Open In Colab\"/></a>"
      ]
    },
    {
      "cell_type": "markdown",
      "source": [
        "# Answer the following questions using only builtin Python datatypes and functions. Do not use Numpy or Scipy (i.e. No library imports allowed)"
      ],
      "metadata": {
        "id": "zVV_KMSIUG-A"
      }
    },
    {
      "cell_type": "markdown",
      "source": [
        "# Q1. Write a function that return the range (maximum and minimun) of a given list of numbers"
      ],
      "metadata": {
        "id": "uZnK7VgWV5SI"
      }
    },
    {
      "cell_type": "code",
      "source": [
        "def find_min_max(nums):\n",
        "    minimum = big = nums[0]\n",
        "    for n in nums:\n",
        "      if n < minimum:\n",
        "        minimum = n\n",
        "\n",
        "      if n > big:\n",
        "        big = n\n",
        "\n",
        "    return minimum,big\n",
        "\n",
        "\n",
        "data = [5, 8, 2, 7, 3, 8, 10]\n",
        "Min_val,Max_val = find_min_max(data)\n",
        "print(f\"Minimum is:{Min_val}, Maximum is:{Max_val}\")\n"
      ],
      "metadata": {
        "id": "vuAbJQcOWAM7",
        "colab": {
          "base_uri": "https://localhost:8080/"
        },
        "outputId": "975c1350-e2da-4440-8a9d-da19eea969ff"
      },
      "execution_count": null,
      "outputs": [
        {
          "output_type": "stream",
          "name": "stdout",
          "text": [
            "Minimum is:2, Maximum is:10\n"
          ]
        }
      ]
    },
    {
      "cell_type": "markdown",
      "source": [
        "## Q2. Write function that returns mean value of a list of numbers"
      ],
      "metadata": {
        "id": "Y5_v5a8_U1O-"
      }
    },
    {
      "cell_type": "code",
      "source": [
        "def mean(nums):\n",
        "  return sum(nums) / len(nums)\n",
        "\n",
        "data = [5,6,8,9,6,4,3]\n",
        "print(\"Mean value:\", mean(data))"
      ],
      "metadata": {
        "id": "RajjEyacU7Sc",
        "colab": {
          "base_uri": "https://localhost:8080/"
        },
        "outputId": "7dc3f737-a545-4abe-80d4-569e5cdcc7bf"
      },
      "execution_count": null,
      "outputs": [
        {
          "output_type": "stream",
          "name": "stdout",
          "text": [
            "Mean value: 5.857142857142857\n"
          ]
        }
      ]
    },
    {
      "cell_type": "markdown",
      "source": [
        "# Q3. Write a function that returns the median value of a list of numbers"
      ],
      "metadata": {
        "id": "OpeRxoEoVTIP"
      }
    },
    {
      "cell_type": "code",
      "source": [
        "def med(nums):\n",
        "  sorted(nums)\n",
        "  if(len(data) % 2 != 0):\n",
        "    index = len(data) // 2\n",
        "    return nums[index]\n",
        "  else:\n",
        "    index = len(data)//2\n",
        "    median = (nums[index-1]+nums[index])/2\n",
        "    return median\n",
        "\n",
        "\n",
        "\n",
        "data = [1,2,3,4,5,6]\n",
        "print(\"median value:\" ,med(data))"
      ],
      "metadata": {
        "id": "u1CUy0UOVaQi",
        "colab": {
          "base_uri": "https://localhost:8080/"
        },
        "outputId": "9a9d46ee-9e24-4d0a-f29c-1dd2220289b1"
      },
      "execution_count": null,
      "outputs": [
        {
          "output_type": "stream",
          "name": "stdout",
          "text": [
            "median value: 3.5\n"
          ]
        }
      ]
    },
    {
      "cell_type": "markdown",
      "source": [
        "## Q4. Write a function to return the mod of a list of numbers, if no mod exists, it should return None. If more than one mod exist, return the mod values as list"
      ],
      "metadata": {
        "id": "2EMOG7AZSqVn"
      }
    },
    {
      "cell_type": "code",
      "execution_count": null,
      "metadata": {
        "id": "qnMm2dhhSk3-",
        "colab": {
          "base_uri": "https://localhost:8080/"
        },
        "outputId": "5f020344-7aae-4894-bf7f-732be4020378"
      },
      "outputs": [
        {
          "output_type": "stream",
          "name": "stdout",
          "text": [
            "Median is : [4, 3]\n"
          ]
        }
      ],
      "source": [
        "def find_mode(nums):\n",
        "    mod = {}\n",
        "    for n in nums:\n",
        "      if n in mod:\n",
        "        mod[n] += 1\n",
        "      else:\n",
        "        mod[n] = 1\n",
        "    max_mod = max(mod.values())\n",
        "    if max_mod == 1:\n",
        "      return None\n",
        "    modes = [num for num, count in mod.items() if count == max_mod]\n",
        "\n",
        "    if len(modes) == 1:\n",
        "        return modes[0]\n",
        "    else:\n",
        "        return modes\n",
        "\n",
        "print(\"Median is :\",find_mode([1,2,4,3,3,3,4,4,5]))"
      ]
    },
    {
      "cell_type": "markdown",
      "source": [
        "## Q5. Write function to compute a given percentile value (e.g. 90th percentile) of a list of numbers"
      ],
      "metadata": {
        "id": "LcqWwqtgTCiL"
      }
    },
    {
      "cell_type": "code",
      "source": [
        "\n",
        "def calculate_quartiles(data,per):\n",
        "  sorted(data)\n",
        "  n = len(data)\n",
        "  ans = (per*n)// 100\n",
        "  Q = data[ans - 1]\n",
        "  return Q\n",
        "\n",
        "\n",
        "data = [1,2,3,4,5,6,7,8,9]\n",
        "result = calculate_quartiles(data,90)\n",
        "print(\"percentile value is:\",result)\n"
      ],
      "metadata": {
        "id": "Sn307h0TTb2b",
        "colab": {
          "base_uri": "https://localhost:8080/"
        },
        "outputId": "bd86d823-d886-4ed0-ddc7-c374b8bcac96"
      },
      "execution_count": null,
      "outputs": [
        {
          "output_type": "stream",
          "name": "stdout",
          "text": [
            "percentile value is: 8\n"
          ]
        }
      ]
    },
    {
      "cell_type": "markdown",
      "source": [
        "# Q6. Write a function that returns the lower bound of a list of numbers"
      ],
      "metadata": {
        "id": "N-TYHkDcWOfS"
      }
    },
    {
      "cell_type": "code",
      "source": [
        "def lower_bound(data):\n",
        "    data = sorted(data)\n",
        "    n = len(data)\n",
        "    Q1_ind= (n // 4)\n",
        "    Q3_ind = (3 * n) // 4\n",
        "    Q1 = data[Q1_ind - 1]\n",
        "    print(Q1)\n",
        "    Q3 = data[Q3_ind - 1]\n",
        "\n",
        "    IQR = Q3 - Q1\n",
        "    Lower_limit = Q1 - 1.5 * IQR\n",
        "    return Lower_limit\n",
        "data = [1,2,3,4,5,6,7,8,9,4,5,6]\n",
        "print(\"Lower bound is:\", lower_bound(data))\n"
      ],
      "metadata": {
        "id": "Y-RKPdKuW5nx",
        "colab": {
          "base_uri": "https://localhost:8080/"
        },
        "outputId": "ac34c9e4-6339-4c41-81e7-876a1db5c8f9"
      },
      "execution_count": null,
      "outputs": [
        {
          "output_type": "stream",
          "name": "stdout",
          "text": [
            "3\n",
            "Lower bound is: -1.5\n"
          ]
        }
      ]
    },
    {
      "cell_type": "markdown",
      "source": [
        "## Q7. Write function to return any outliers from a given list of numbers, if no outliers present it should return None"
      ],
      "metadata": {
        "id": "5aHfaI_jThpX"
      }
    },
    {
      "cell_type": "code",
      "source": [
        "def find_outlier(data):\n",
        "    data = sorted(data)\n",
        "    n = len(data)\n",
        "    Q1_ind= (n // 4)\n",
        "    Q3_ind = (3 * n) // 4\n",
        "    Q1 = data[Q1_ind - 1]\n",
        "    Q3 = data[Q3_ind - 1]\n",
        "\n",
        "    IQR = Q3 - Q1\n",
        "    Lower_limit = Q1 - 1.5 * IQR\n",
        "    upper_limit = Q3 + 1.5 * IQR\n",
        "\n",
        "    out_liers=[]\n",
        "    for i in data:\n",
        "      if i < Lower_limit or i > upper_limit:\n",
        "        out_liers.append(i)\n",
        "\n",
        "    return out_liers if out_liers else None\n",
        "\n",
        "\n",
        "\n",
        "data = [1,2,3,4,5,6,7,8,9,4,5,6,655]\n",
        "print (find_outlier(data))"
      ],
      "metadata": {
        "id": "gG6-qzT7T0Si",
        "colab": {
          "base_uri": "https://localhost:8080/"
        },
        "outputId": "5d32fcb8-1d40-42d7-9356-3565ab42201b"
      },
      "execution_count": null,
      "outputs": [
        {
          "output_type": "stream",
          "name": "stdout",
          "text": [
            "[655]\n"
          ]
        }
      ]
    },
    {
      "cell_type": "markdown",
      "source": [
        "##Q8. Write a function to return standard deviation of a list of numbers"
      ],
      "metadata": {
        "id": "jI9t-tcDT5EK"
      }
    },
    {
      "cell_type": "code",
      "source": [
        "def standard_deviation(nums):\n",
        "    n = len(nums)\n",
        "    mean = sum(nums) / n\n",
        "    variance = 0\n",
        "    for i in nums:\n",
        "      variance += (i - mean) ** 2 / n\n",
        "      std_dev = variance ** 0.5\n",
        "    return std_dev\n",
        "\n",
        "data = [78, 85, 95, 50, 88, 45, 82, 91, 75, 60]\n",
        "print(\"Standard Deviation:\", standard_deviation(data))"
      ],
      "metadata": {
        "id": "MMU_cMlLUFxJ",
        "colab": {
          "base_uri": "https://localhost:8080/"
        },
        "outputId": "3b2697ca-1afb-4270-f490-b51648be8e34"
      },
      "execution_count": null,
      "outputs": [
        {
          "output_type": "stream",
          "name": "stdout",
          "text": [
            "Standard Deviation: 16.53148511174964\n"
          ]
        }
      ]
    },
    {
      "cell_type": "markdown",
      "source": [
        "## Q9. Write function to compute and return Z-score values of a list of numbers"
      ],
      "metadata": {
        "id": "LufmQDJPURkM"
      }
    },
    {
      "cell_type": "code",
      "source": [
        "def z_scores(nums):\n",
        "    n = len(nums)\n",
        "    mean = sum(nums) / n\n",
        "    variance = 0\n",
        "    for i in nums:\n",
        "      variance += (i - mean) ** 2 / n\n",
        "      std_dev = variance ** 0.5\n",
        "    z = [(i - mean) / std_dev for i in nums]\n",
        "    return z\n",
        "\n",
        "data = [1,2,3,4,5]\n",
        "print(\"Z-scores:\", z_scores(data))\n"
      ],
      "metadata": {
        "id": "ml2qpSpFUYxV",
        "colab": {
          "base_uri": "https://localhost:8080/"
        },
        "outputId": "0c963af5-cbc8-41c4-e6af-57467d9494e3"
      },
      "execution_count": null,
      "outputs": [
        {
          "output_type": "stream",
          "name": "stdout",
          "text": [
            "Z-scores: [-1.414213562373095, -0.7071067811865475, 0.0, 0.7071067811865475, 1.414213562373095]\n"
          ]
        }
      ]
    },
    {
      "cell_type": "markdown",
      "source": [
        "## Q10. Write a function to compute and return the Pearson correlation coefficient value of two list of numbers"
      ],
      "metadata": {
        "id": "YQSNHIfxUb6s"
      }
    },
    {
      "cell_type": "code",
      "source": [
        "def sample_cov_pear(x,y):\n",
        "\n",
        "  n = len(x)\n",
        "\n",
        "  sum_x = sum(x)\n",
        "  sum_y = sum(y)\n",
        "\n",
        "  sum_x_sq = sum(xi ** 2 for xi in x)\n",
        "  sum_y_sq = sum(yi ** 2 for yi in y)\n",
        "  sum_xy = sum(x[i] * y[i] for i in range(n))\n",
        "\n",
        "  cov = (sum_xy - (sum_x * sum_y) / n)/(n-1)\n",
        "  numerator = n * sum_xy - sum_x * sum_y\n",
        "  denominator = ((n * sum_x_sq - sum_x **2)*(n * sum_y_sq - sum_y **2)) ** 0.5\n",
        "\n",
        "  cor = numerator / denominator if denominator != 0 else 0\n",
        "\n",
        "  return cov, cor\n",
        "x = [10,20,30,40,50]\n",
        "y = [15,25,35,45,60]\n",
        "\n",
        "cov,cor = sample_cov_pear(x,y)\n",
        "print(f\"Covariance value: {cov}\\nPearson correlation coefficient value: {cor}\")"
      ],
      "metadata": {
        "id": "tQ4nf998P9cD",
        "colab": {
          "base_uri": "https://localhost:8080/"
        },
        "outputId": "178da063-d689-4914-96cc-70e78945a516"
      },
      "execution_count": null,
      "outputs": [
        {
          "output_type": "stream",
          "name": "stdout",
          "text": [
            "Covariance value: 275.0\n",
            "Pearson correlation coefficient value: 0.9958932064677039\n"
          ]
        }
      ]
    }
  ]
}